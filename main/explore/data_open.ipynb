{
 "cells": [
  {
   "cell_type": "markdown",
   "metadata": {
    "jupyter": {
     "outputs_hidden": true
    }
   },
   "source": [
    "# Data loading"
   ]
  },
  {
   "cell_type": "markdown",
   "metadata": {},
   "source": [
    "## Speed test"
   ]
  },
  {
   "cell_type": "markdown",
   "metadata": {},
   "source": [
    "Test the speed difference between a read from a raster image and a read from an hdf5 file"
   ]
  },
  {
   "cell_type": "markdown",
   "metadata": {},
   "source": [
    "## raster images"
   ]
  },
  {
   "cell_type": "code",
   "execution_count": 7,
   "metadata": {},
   "outputs": [
    {
     "name": "stdout",
     "output_type": "stream",
     "text": [
      "We have the following access time for each image:\n"
     ]
    },
    {
     "data": {
      "text/plain": "┏━━━━━━━━━━━━━━━━━━━━━━━━━━━━━┳━━━━━━━━━━━━━━━━━━━┳━━━━━━━━━━━━━━━━━━━━┓\n┃\u001B[1;35m \u001B[0m\u001B[1;35mName                       \u001B[0m\u001B[1;35m \u001B[0m┃\u001B[1;35m \u001B[0m\u001B[1;35mAccess time (ms) \u001B[0m\u001B[1;35m \u001B[0m┃\u001B[1;35m \u001B[0m\u001B[1;35mShape of the image\u001B[0m\u001B[1;35m \u001B[0m┃\n┡━━━━━━━━━━━━━━━━━━━━━━━━━━━━━╇━━━━━━━━━━━━━━━━━━━╇━━━━━━━━━━━━━━━━━━━━┩\n│ 027481_0319CB_0EB7 avg time │ 813.3824579999999 │ (10600, 18441)     │\n│ 016505_01F10F_CE84 avg time │ 845.9612          │ (10655, 18706)     │\n│ 016753_01F88A_4864 avg time │ 911.636944        │ (10648, 18759)     │\n│ Global avg time             │ 856.9935339999998 │ -                  │\n└─────────────────────────────┴───────────────────┴────────────────────┘\n",
      "text/html": "<pre style=\"white-space:pre;overflow-x:auto;line-height:normal;font-family:Menlo,'DejaVu Sans Mono',consolas,'Courier New',monospace\">┏━━━━━━━━━━━━━━━━━━━━━━━━━━━━━┳━━━━━━━━━━━━━━━━━━━┳━━━━━━━━━━━━━━━━━━━━┓\n┃<span style=\"color: #800080; text-decoration-color: #800080; font-weight: bold\"> Name                        </span>┃<span style=\"color: #800080; text-decoration-color: #800080; font-weight: bold\"> Access time (ms)  </span>┃<span style=\"color: #800080; text-decoration-color: #800080; font-weight: bold\"> Shape of the image </span>┃\n┡━━━━━━━━━━━━━━━━━━━━━━━━━━━━━╇━━━━━━━━━━━━━━━━━━━╇━━━━━━━━━━━━━━━━━━━━┩\n│ 027481_0319CB_0EB7 avg time │ 813.3824579999999 │ (10600, 18441)     │\n│ 016505_01F10F_CE84 avg time │ 845.9612          │ (10655, 18706)     │\n│ 016753_01F88A_4864 avg time │ 911.636944        │ (10648, 18759)     │\n│ Global avg time             │ 856.9935339999998 │ -                  │\n└─────────────────────────────┴───────────────────┴────────────────────┘\n</pre>\n"
     },
     "metadata": {},
     "output_type": "display_data"
    }
   ],
   "source": [
    "import rasterio\n",
    "from rich.console import Console\n",
    "from rich.table import Table\n",
    "\n",
    "from main.FolderInfos import FolderInfos\n",
    "import os\n",
    "import re\n",
    "import matplotlib.pyplot as plt\n",
    "import numpy as np\n",
    "from osgeo import gdal\n",
    "import time\n",
    "\n",
    "\n",
    "def get_array_raster_file(path):\n",
    "    with rasterio.open(path) as file_object:\n",
    "        dataset = file_object.read(1)\n",
    "    return dataset,file_object\n",
    "\n",
    "FolderInfos.init(test_without_data=True)\n",
    "files = [FolderInfos.data_test+f for f in os.listdir(FolderInfos.data_test)]\n",
    "dico_by_extensions = {}\n",
    "for sf,f in zip(os.listdir(FolderInfos.data_test),files):\n",
    "    name = re.sub(\"^([A-Za-z0-9_]+[A-Za-z_]{,2})(20[0-9_A-Z]+)(\\\\.[a-z]+)$\",\"\\\\2\",sf)\n",
    "    ext = sf.split(\".\")[-1]\n",
    "    if ext not in dico_by_extensions:\n",
    "        dico_by_extensions[ext] = {}\n",
    "    dico_by_extensions[ext][name] = f\n",
    "\n",
    "# Measures...\n",
    "list_imgs_ids = [\"027481_0319CB_0EB7\",\"016505_01F10F_CE84\",\"016753_01F88A_4864\"]\n",
    "dico_times = {k:{\"values\":[],\"shape\":None,\"mem_size\":None} for k in list_imgs_ids}\n",
    "for _ in range(50):\n",
    "    for [[name,path],uniq_id] in zip(dico_by_extensions[\"img\"].items(),list_imgs_ids):\n",
    "        initial_time = time.time_ns()\n",
    "        dataset, file_object = get_array_raster_file(path)\n",
    "        dico_times[uniq_id][\"values\"].append(time.time_ns()-initial_time)\n",
    "        dico_times[uniq_id][\"shape\"] = dataset.shape\n",
    "        dico_times[uniq_id][\"mem_size\"] = dataset.nbytes\n",
    "print(\"We have the following access time for each image:\")\n",
    "console = Console(color_system=\"windows\")\n",
    "table = Table(show_header=True, header_style=\"bold magenta\")\n",
    "table.add_column(\"Name\")\n",
    "table.add_column(\"Access time (ms)\")\n",
    "table.add_column(\"Shape of the image\")\n",
    "table.add_column(\"Memory size (Bytes)\")\n",
    "for name_img,values in dico_times.items():\n",
    "    table.add_row(\n",
    "        f\"{name_img} avg time\", str(np.mean(values[\"values\"])*1e-6),str(values[\"shape\"]),values[\"mem_size\"]\n",
    "    )\n",
    "all_times = [v[\"values\"] for v in dico_times.values()]\n",
    "table.add_row(\n",
    "        f\"Global avg time\", str(np.mean(np.concatenate(all_times,axis=0)*1e-6)),\"-\"\n",
    "    )\n",
    "console.print(table)\n",
    "        "
   ]
  }
 ],
 "metadata": {
  "kernelspec": {
   "name": "pycharm-f84d40f0",
   "language": "python",
   "display_name": "PyCharm (detection_nappe_hydrocarbures_inria_cefrem)"
  },
  "language_info": {
   "codemirror_mode": {
    "name": "ipython",
    "version": 3
   },
   "file_extension": ".py",
   "mimetype": "text/x-python",
   "name": "python",
   "nbconvert_exporter": "python",
   "pygments_lexer": "ipython3",
   "version": "3.7.7"
  }
 },
 "nbformat": 4,
 "nbformat_minor": 4
}