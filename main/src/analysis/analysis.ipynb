{
 "cells": [
  {
   "cell_type": "markdown",
   "metadata": {
    "pycharm": {
     "name": "#%% md\n"
    }
   },
   "source": [
    "# Analysis"
   ]
  },
  {
   "cell_type": "markdown",
   "metadata": {
    "pycharm": {
     "name": "#%% md\n"
    }
   },
   "source": [
    "## Get backend data"
   ]
  },
  {
   "cell_type": "code",
   "execution_count": 15,
   "metadata": {
    "pycharm": {
     "name": "#%%\n"
    }
   },
   "outputs": [
    {
     "name": "stdout",
     "output_type": "stream",
     "text": [
      "👍 Backend data ready !\n",
      "To see runs availables launch the launch_taboo.py script\n",
      "at C:\\Users\\robin\\Documents\\projets\\detection_nappe_hydrocarbures_IMT_cefrem\\main\\src\\analysis\\launch_taboo.py . \n",
      "⚠️ the python launch_taboo.py process needs to be killed \n",
      "once you do not need to visualize anymore the dataframe. \n",
      "Closing the web navigator window is not sufficient !\n"
     ]
    }
   ],
   "source": [
    "import os, re, sys\n",
    "sys.path.append(r\"C:\\Users\\robin\\Documents\\projets\\detection_nappe_hydrocarbures_IMT_cefrem\")\n",
    "sys.path.append(r\"C:\\Users\\robin\\Documents\\projets\\detection_nappe_hydrocarbures_IMT_cefrem\\main\")\n",
    "sys.path.append(r\"C:\\Users\\robin\\Documents\\projets\\detection_nappe_hydrocarbures_IMT_cefrem\\main\\src\")\n",
    "sys.path.append(r\"C:\\Users\\robin\\Documents\\projets\")\n",
    "from main.FolderInfos import FolderInfos\n",
    "import pandas as pd\n",
    "import json\n",
    "\n",
    "from main.src.analysis.analysis.metadata.CacheMetadataManager import CacheMetadataManager\n",
    "from main.src.analysis.analysis.metadata.Formatters.Formatter import Formatter\n",
    "from main.src.analysis.analysis.metrics.MetricManager import MetricManager\n",
    "from main.src.analysis.analysis.exceptions import ElementNotFound\n",
    "\n",
    "FolderInfos.init(test_without_data=True)\n",
    "list_dataout_folders = os.listdir(FolderInfos.data_folder)\n",
    "with open(FolderInfos.root_folder+\"main\"+FolderInfos.separator+\"src\"+FolderInfos.separator+\"analysis\"+FolderInfos.separator+\"extract_data.json\",\"r\") as fp:\n",
    "    dico_access = json.load(fp)\n",
    "dico_metrics = {}\n",
    "available_metrics = dico_access[\"metrics\"].keys()\n",
    "runs_metadata = []\n",
    "dico_cache_additional_infos = {}\n",
    "for f in list_dataout_folders:\n",
    "    if f == \"2021-07-18_23h25min14s_\":\n",
    "        b=0\n",
    "    path_json = FolderInfos.data_folder+f+FolderInfos.separator+f+\"parameters.json\"\n",
    "    if os.path.exists(path_json) is True:\n",
    "        try:\n",
    "            with open(path_json,\"r\") as fp:\n",
    "                dico = json.load(fp)\n",
    "        except:\n",
    "            continue\n",
    "        dico_run_metadata = {\"folder_id\":f}\n",
    "        try:\n",
    "            for metadata_name,dico_metadata in dico_access[\"metadata\"].items():\n",
    "                formatter = Formatter()\n",
    "                cache_metric_manager = CacheMetadataManager(dico_access[\"metadata\"],dico,dico_cache_additional_infos,formatter)\n",
    "                dico_run_metadata[metadata_name] = cache_metric_manager.get(metadata_name)\n",
    "\n",
    "\n",
    "            metrics = {}\n",
    "            metric_manager = MetricManager(dico_access[\"metrics\"],dico)\n",
    "            for metric_name in dico_access[\"metrics\"].keys():\n",
    "                metrics[metric_name] = metric_manager.get(metric_name)\n",
    "        except ElementNotFound:\n",
    "            continue\n",
    "        dico_metrics[f] = metrics\n",
    "        runs_metadata.append(dico_run_metadata)\n",
    "\n",
    "df:pd.DataFrame = pd.DataFrame(runs_metadata)\n",
    "# import qgrid\n",
    "# widget = qgrid.show_grid(df_filtered)\n",
    "# tabloo.show(df_filtered)\n",
    "print(\"👍 Backend data ready !\")\n",
    "l_path = FolderInfos.root_folder.split(FolderInfos.separator)[:-1] + [\"main\",\"src\",\"analysis\",\"data_taboo.pkl\"]\n",
    "path_cache = FolderInfos.separator.join(l_path)\n",
    "df.to_pickle(path_cache)\n",
    "script_path  = FolderInfos.separator.join(FolderInfos.root_folder.split(FolderInfos.separator)[:-1] + ['main','src','analysis','launch_taboo.py'])\n",
    "print(f\"To see runs availables launch the launch_taboo.py script\\nat {script_path} . \\n\"+\n",
    "        \"⚠️ the python launch_taboo.py process needs to be killed \\nonce you do not need to visualize anymore the dataframe. \"\n",
    "        \"\\nClosing the web navigator window is not sufficient !\")"
   ]
  },
  {
   "cell_type": "code",
   "execution_count": 16,
   "metadata": {
    "pycharm": {
     "name": "#%%\n"
    }
   },
   "outputs": [
    {
     "data": {
      "text/plain": "VBox(children=(Text(value='', description='Query'), HTML(value='')))",
      "application/vnd.jupyter.widget-view+json": {
       "version_major": 2,
       "version_minor": 0,
       "model_id": "c9d7430fd4244de4bbecd33ae1c91911"
      }
     },
     "metadata": {},
     "output_type": "display_data"
    }
   ],
   "source": [
    "import ipywidgets as widgets\n",
    "from IPython.display import display,clear_output\n",
    "from bs4 import BeautifulSoup\n",
    "\n",
    "html_template = lambda content:\"\"\"\n",
    "<!DOCTYPE html>\n",
    "<html>\n",
    "<head>\n",
    "<meta charset=\"UTF-8\">\n",
    "<style>\n",
    "    table {\n",
    "        border-collapse: collapse;\n",
    "        margin: 25px 0;\n",
    "        font-size: 0.9em;\n",
    "        font-family: sans-serif;\n",
    "        min-width: 400px;\n",
    "        box-shadow: 0 0 20px rgba(0, 0, 0, 0.15);\n",
    "    }\n",
    "    table thead tr {\n",
    "        background-color: #009879;\n",
    "        color: #ffffff;\n",
    "        text-align: left;\n",
    "    }\n",
    "    table th,\n",
    "    table td {\n",
    "        padding: 12px 15px;\n",
    "    }\n",
    "    table tbody tr {\n",
    "        border-bottom: 1px solid #dddddd;\n",
    "    }\n",
    "\n",
    "    table tbody tr:nth-of-type(even) {\n",
    "        background-color: rgba(255, 255, 255, 0.25);\n",
    "\n",
    "    }\n",
    "\n",
    "    table tbody tr:last-of-type {\n",
    "        border-bottom: 2px solid #009879;\n",
    "    }\n",
    "    table tbody tr.active-row {\n",
    "        font-weight: bold;\n",
    "        color: #009879;\n",
    "    }\n",
    "</style>\n",
    "</head>\n",
    "<body>\n",
    "%s\n",
    "</body>\n",
    "\"\"\" % content\n",
    "out = widgets.Output()\n",
    "filter_data = widgets.Text(description=\"Query\")\n",
    "html: widgets.HTML = widgets.HTML()\n",
    "box = widgets.VBox([filter_data,html])\n",
    "global df_filtered\n",
    "with out:\n",
    "    display(box)\n",
    "class DataFrameObject:# to solve the bug cannot put dataframe as global\n",
    "    def __init__(self,df):\n",
    "        self.orig_df = df\n",
    "        self.df = None\n",
    "    def __call__(self, string):\n",
    "        self.df = self.orig_df.query(string)\n",
    "        return self.df\n",
    "data = DataFrameObject(df)\n",
    "def handler_filter(v):\n",
    "    df_filtered: pd.DataFrame = data(filter_data.value)\n",
    "    html_value = df_filtered.to_html()\n",
    "    html_value = html_template(html_value)\n",
    "    soup = BeautifulSoup(html_value, 'html.parser')\n",
    "    html.value = soup.prettify()\n",
    "filter_data.on_submit(handler_filter)\n",
    "box\n",
    "\n"
   ]
  },
  {
   "cell_type": "code",
   "execution_count": 17,
   "metadata": {
    "pycharm": {
     "name": "#%%\n"
    }
   },
   "outputs": [
    {
     "data": {
      "text/plain": "VBox(children=(Accordion(children=(VBox(children=(HBox(children=(Label(value='epoch'), PersoToggleButton(value…",
      "application/vnd.jupyter.widget-view+json": {
       "version_major": 2,
       "version_minor": 0,
       "model_id": "ee171ad29bde47a3aba3afc5ea7697ac"
      }
     },
     "metadata": {},
     "output_type": "display_data"
    },
    {
     "data": {
      "application/vnd.plotly.v1+json": {
       "config": {
        "linkText": "Export to plot.ly",
        "plotlyServerURL": "https://plot.ly",
        "showLink": false
       },
       "data": [],
       "layout": {
        "height": 500,
        "legend": {
         "orientation": "h",
         "x": 1,
         "y": 1
        },
        "template": {
         "data": {
          "bar": [
           {
            "error_x": {
             "color": "#2a3f5f"
            },
            "error_y": {
             "color": "#2a3f5f"
            },
            "marker": {
             "line": {
              "color": "#E5ECF6",
              "width": 0.5
             }
            },
            "type": "bar"
           }
          ],
          "barpolar": [
           {
            "marker": {
             "line": {
              "color": "#E5ECF6",
              "width": 0.5
             }
            },
            "type": "barpolar"
           }
          ],
          "carpet": [
           {
            "aaxis": {
             "endlinecolor": "#2a3f5f",
             "gridcolor": "white",
             "linecolor": "white",
             "minorgridcolor": "white",
             "startlinecolor": "#2a3f5f"
            },
            "baxis": {
             "endlinecolor": "#2a3f5f",
             "gridcolor": "white",
             "linecolor": "white",
             "minorgridcolor": "white",
             "startlinecolor": "#2a3f5f"
            },
            "type": "carpet"
           }
          ],
          "choropleth": [
           {
            "colorbar": {
             "outlinewidth": 0,
             "ticks": ""
            },
            "type": "choropleth"
           }
          ],
          "contour": [
           {
            "colorbar": {
             "outlinewidth": 0,
             "ticks": ""
            },
            "colorscale": [
             [
              0.0,
              "#0d0887"
             ],
             [
              0.1111111111111111,
              "#46039f"
             ],
             [
              0.2222222222222222,
              "#7201a8"
             ],
             [
              0.3333333333333333,
              "#9c179e"
             ],
             [
              0.4444444444444444,
              "#bd3786"
             ],
             [
              0.5555555555555556,
              "#d8576b"
             ],
             [
              0.6666666666666666,
              "#ed7953"
             ],
             [
              0.7777777777777778,
              "#fb9f3a"
             ],
             [
              0.8888888888888888,
              "#fdca26"
             ],
             [
              1.0,
              "#f0f921"
             ]
            ],
            "type": "contour"
           }
          ],
          "contourcarpet": [
           {
            "colorbar": {
             "outlinewidth": 0,
             "ticks": ""
            },
            "type": "contourcarpet"
           }
          ],
          "heatmap": [
           {
            "colorbar": {
             "outlinewidth": 0,
             "ticks": ""
            },
            "colorscale": [
             [
              0.0,
              "#0d0887"
             ],
             [
              0.1111111111111111,
              "#46039f"
             ],
             [
              0.2222222222222222,
              "#7201a8"
             ],
             [
              0.3333333333333333,
              "#9c179e"
             ],
             [
              0.4444444444444444,
              "#bd3786"
             ],
             [
              0.5555555555555556,
              "#d8576b"
             ],
             [
              0.6666666666666666,
              "#ed7953"
             ],
             [
              0.7777777777777778,
              "#fb9f3a"
             ],
             [
              0.8888888888888888,
              "#fdca26"
             ],
             [
              1.0,
              "#f0f921"
             ]
            ],
            "type": "heatmap"
           }
          ],
          "heatmapgl": [
           {
            "colorbar": {
             "outlinewidth": 0,
             "ticks": ""
            },
            "colorscale": [
             [
              0.0,
              "#0d0887"
             ],
             [
              0.1111111111111111,
              "#46039f"
             ],
             [
              0.2222222222222222,
              "#7201a8"
             ],
             [
              0.3333333333333333,
              "#9c179e"
             ],
             [
              0.4444444444444444,
              "#bd3786"
             ],
             [
              0.5555555555555556,
              "#d8576b"
             ],
             [
              0.6666666666666666,
              "#ed7953"
             ],
             [
              0.7777777777777778,
              "#fb9f3a"
             ],
             [
              0.8888888888888888,
              "#fdca26"
             ],
             [
              1.0,
              "#f0f921"
             ]
            ],
            "type": "heatmapgl"
           }
          ],
          "histogram": [
           {
            "marker": {
             "colorbar": {
              "outlinewidth": 0,
              "ticks": ""
             }
            },
            "type": "histogram"
           }
          ],
          "histogram2d": [
           {
            "colorbar": {
             "outlinewidth": 0,
             "ticks": ""
            },
            "colorscale": [
             [
              0.0,
              "#0d0887"
             ],
             [
              0.1111111111111111,
              "#46039f"
             ],
             [
              0.2222222222222222,
              "#7201a8"
             ],
             [
              0.3333333333333333,
              "#9c179e"
             ],
             [
              0.4444444444444444,
              "#bd3786"
             ],
             [
              0.5555555555555556,
              "#d8576b"
             ],
             [
              0.6666666666666666,
              "#ed7953"
             ],
             [
              0.7777777777777778,
              "#fb9f3a"
             ],
             [
              0.8888888888888888,
              "#fdca26"
             ],
             [
              1.0,
              "#f0f921"
             ]
            ],
            "type": "histogram2d"
           }
          ],
          "histogram2dcontour": [
           {
            "colorbar": {
             "outlinewidth": 0,
             "ticks": ""
            },
            "colorscale": [
             [
              0.0,
              "#0d0887"
             ],
             [
              0.1111111111111111,
              "#46039f"
             ],
             [
              0.2222222222222222,
              "#7201a8"
             ],
             [
              0.3333333333333333,
              "#9c179e"
             ],
             [
              0.4444444444444444,
              "#bd3786"
             ],
             [
              0.5555555555555556,
              "#d8576b"
             ],
             [
              0.6666666666666666,
              "#ed7953"
             ],
             [
              0.7777777777777778,
              "#fb9f3a"
             ],
             [
              0.8888888888888888,
              "#fdca26"
             ],
             [
              1.0,
              "#f0f921"
             ]
            ],
            "type": "histogram2dcontour"
           }
          ],
          "mesh3d": [
           {
            "colorbar": {
             "outlinewidth": 0,
             "ticks": ""
            },
            "type": "mesh3d"
           }
          ],
          "parcoords": [
           {
            "line": {
             "colorbar": {
              "outlinewidth": 0,
              "ticks": ""
             }
            },
            "type": "parcoords"
           }
          ],
          "pie": [
           {
            "automargin": true,
            "type": "pie"
           }
          ],
          "scatter": [
           {
            "marker": {
             "colorbar": {
              "outlinewidth": 0,
              "ticks": ""
             }
            },
            "type": "scatter"
           }
          ],
          "scatter3d": [
           {
            "line": {
             "colorbar": {
              "outlinewidth": 0,
              "ticks": ""
             }
            },
            "marker": {
             "colorbar": {
              "outlinewidth": 0,
              "ticks": ""
             }
            },
            "type": "scatter3d"
           }
          ],
          "scattercarpet": [
           {
            "marker": {
             "colorbar": {
              "outlinewidth": 0,
              "ticks": ""
             }
            },
            "type": "scattercarpet"
           }
          ],
          "scattergeo": [
           {
            "marker": {
             "colorbar": {
              "outlinewidth": 0,
              "ticks": ""
             }
            },
            "type": "scattergeo"
           }
          ],
          "scattergl": [
           {
            "marker": {
             "colorbar": {
              "outlinewidth": 0,
              "ticks": ""
             }
            },
            "type": "scattergl"
           }
          ],
          "scattermapbox": [
           {
            "marker": {
             "colorbar": {
              "outlinewidth": 0,
              "ticks": ""
             }
            },
            "type": "scattermapbox"
           }
          ],
          "scatterpolar": [
           {
            "marker": {
             "colorbar": {
              "outlinewidth": 0,
              "ticks": ""
             }
            },
            "type": "scatterpolar"
           }
          ],
          "scatterpolargl": [
           {
            "marker": {
             "colorbar": {
              "outlinewidth": 0,
              "ticks": ""
             }
            },
            "type": "scatterpolargl"
           }
          ],
          "scatterternary": [
           {
            "marker": {
             "colorbar": {
              "outlinewidth": 0,
              "ticks": ""
             }
            },
            "type": "scatterternary"
           }
          ],
          "surface": [
           {
            "colorbar": {
             "outlinewidth": 0,
             "ticks": ""
            },
            "colorscale": [
             [
              0.0,
              "#0d0887"
             ],
             [
              0.1111111111111111,
              "#46039f"
             ],
             [
              0.2222222222222222,
              "#7201a8"
             ],
             [
              0.3333333333333333,
              "#9c179e"
             ],
             [
              0.4444444444444444,
              "#bd3786"
             ],
             [
              0.5555555555555556,
              "#d8576b"
             ],
             [
              0.6666666666666666,
              "#ed7953"
             ],
             [
              0.7777777777777778,
              "#fb9f3a"
             ],
             [
              0.8888888888888888,
              "#fdca26"
             ],
             [
              1.0,
              "#f0f921"
             ]
            ],
            "type": "surface"
           }
          ],
          "table": [
           {
            "cells": {
             "fill": {
              "color": "#EBF0F8"
             },
             "line": {
              "color": "white"
             }
            },
            "header": {
             "fill": {
              "color": "#C8D4E3"
             },
             "line": {
              "color": "white"
             }
            },
            "type": "table"
           }
          ]
         },
         "layout": {
          "annotationdefaults": {
           "arrowcolor": "#2a3f5f",
           "arrowhead": 0,
           "arrowwidth": 1
          },
          "autotypenumbers": "strict",
          "coloraxis": {
           "colorbar": {
            "outlinewidth": 0,
            "ticks": ""
           }
          },
          "colorscale": {
           "diverging": [
            [
             0,
             "#8e0152"
            ],
            [
             0.1,
             "#c51b7d"
            ],
            [
             0.2,
             "#de77ae"
            ],
            [
             0.3,
             "#f1b6da"
            ],
            [
             0.4,
             "#fde0ef"
            ],
            [
             0.5,
             "#f7f7f7"
            ],
            [
             0.6,
             "#e6f5d0"
            ],
            [
             0.7,
             "#b8e186"
            ],
            [
             0.8,
             "#7fbc41"
            ],
            [
             0.9,
             "#4d9221"
            ],
            [
             1,
             "#276419"
            ]
           ],
           "sequential": [
            [
             0.0,
             "#0d0887"
            ],
            [
             0.1111111111111111,
             "#46039f"
            ],
            [
             0.2222222222222222,
             "#7201a8"
            ],
            [
             0.3333333333333333,
             "#9c179e"
            ],
            [
             0.4444444444444444,
             "#bd3786"
            ],
            [
             0.5555555555555556,
             "#d8576b"
            ],
            [
             0.6666666666666666,
             "#ed7953"
            ],
            [
             0.7777777777777778,
             "#fb9f3a"
            ],
            [
             0.8888888888888888,
             "#fdca26"
            ],
            [
             1.0,
             "#f0f921"
            ]
           ],
           "sequentialminus": [
            [
             0.0,
             "#0d0887"
            ],
            [
             0.1111111111111111,
             "#46039f"
            ],
            [
             0.2222222222222222,
             "#7201a8"
            ],
            [
             0.3333333333333333,
             "#9c179e"
            ],
            [
             0.4444444444444444,
             "#bd3786"
            ],
            [
             0.5555555555555556,
             "#d8576b"
            ],
            [
             0.6666666666666666,
             "#ed7953"
            ],
            [
             0.7777777777777778,
             "#fb9f3a"
            ],
            [
             0.8888888888888888,
             "#fdca26"
            ],
            [
             1.0,
             "#f0f921"
            ]
           ]
          },
          "colorway": [
           "#636efa",
           "#EF553B",
           "#00cc96",
           "#ab63fa",
           "#FFA15A",
           "#19d3f3",
           "#FF6692",
           "#B6E880",
           "#FF97FF",
           "#FECB52"
          ],
          "font": {
           "color": "#2a3f5f"
          },
          "geo": {
           "bgcolor": "white",
           "lakecolor": "white",
           "landcolor": "#E5ECF6",
           "showlakes": true,
           "showland": true,
           "subunitcolor": "white"
          },
          "hoverlabel": {
           "align": "left"
          },
          "hovermode": "closest",
          "mapbox": {
           "style": "light"
          },
          "paper_bgcolor": "white",
          "plot_bgcolor": "#E5ECF6",
          "polar": {
           "angularaxis": {
            "gridcolor": "white",
            "linecolor": "white",
            "ticks": ""
           },
           "bgcolor": "#E5ECF6",
           "radialaxis": {
            "gridcolor": "white",
            "linecolor": "white",
            "ticks": ""
           }
          },
          "scene": {
           "xaxis": {
            "backgroundcolor": "#E5ECF6",
            "gridcolor": "white",
            "gridwidth": 2,
            "linecolor": "white",
            "showbackground": true,
            "ticks": "",
            "zerolinecolor": "white"
           },
           "yaxis": {
            "backgroundcolor": "#E5ECF6",
            "gridcolor": "white",
            "gridwidth": 2,
            "linecolor": "white",
            "showbackground": true,
            "ticks": "",
            "zerolinecolor": "white"
           },
           "zaxis": {
            "backgroundcolor": "#E5ECF6",
            "gridcolor": "white",
            "gridwidth": 2,
            "linecolor": "white",
            "showbackground": true,
            "ticks": "",
            "zerolinecolor": "white"
           }
          },
          "shapedefaults": {
           "line": {
            "color": "#2a3f5f"
           }
          },
          "ternary": {
           "aaxis": {
            "gridcolor": "white",
            "linecolor": "white",
            "ticks": ""
           },
           "baxis": {
            "gridcolor": "white",
            "linecolor": "white",
            "ticks": ""
           },
           "bgcolor": "#E5ECF6",
           "caxis": {
            "gridcolor": "white",
            "linecolor": "white",
            "ticks": ""
           }
          },
          "title": {
           "x": 0.05
          },
          "xaxis": {
           "automargin": true,
           "gridcolor": "white",
           "linecolor": "white",
           "ticks": "",
           "title": {
            "standoff": 15
           },
           "zerolinecolor": "white",
           "zerolinewidth": 2
          },
          "yaxis": {
           "automargin": true,
           "gridcolor": "white",
           "linecolor": "white",
           "ticks": "",
           "title": {
            "standoff": 15
           },
           "zerolinecolor": "white",
           "zerolinewidth": 2
          }
         }
        },
        "title": {
         "text": ""
        },
        "width": 900,
        "xaxis": {
         "title": {
          "text": "Number of samples processed"
         }
        },
        "yaxis": {
         "tickformat": ".1e",
         "title": {
          "text": "Values"
         }
        }
       }
      },
      "text/html": "<div>                            <div id=\"d8aad980-6f9c-417d-9aad-9e8458d341a1\" class=\"plotly-graph-div\" style=\"height:500px; width:900px;\"></div>            <script type=\"text/javascript\">                require([\"plotly\"], function(Plotly) {                    window.PLOTLYENV=window.PLOTLYENV || {};                                    if (document.getElementById(\"d8aad980-6f9c-417d-9aad-9e8458d341a1\")) {                    Plotly.newPlot(                        \"d8aad980-6f9c-417d-9aad-9e8458d341a1\",                        [],                        {\"height\": 500, \"legend\": {\"orientation\": \"h\", \"x\": 1, \"y\": 1}, \"template\": {\"data\": {\"bar\": [{\"error_x\": {\"color\": \"#2a3f5f\"}, \"error_y\": {\"color\": \"#2a3f5f\"}, \"marker\": {\"line\": {\"color\": \"#E5ECF6\", \"width\": 0.5}}, \"type\": \"bar\"}], \"barpolar\": [{\"marker\": {\"line\": {\"color\": \"#E5ECF6\", \"width\": 0.5}}, \"type\": \"barpolar\"}], \"carpet\": [{\"aaxis\": {\"endlinecolor\": \"#2a3f5f\", \"gridcolor\": \"white\", \"linecolor\": \"white\", \"minorgridcolor\": \"white\", \"startlinecolor\": \"#2a3f5f\"}, \"baxis\": {\"endlinecolor\": \"#2a3f5f\", \"gridcolor\": \"white\", \"linecolor\": \"white\", \"minorgridcolor\": \"white\", \"startlinecolor\": \"#2a3f5f\"}, \"type\": \"carpet\"}], \"choropleth\": [{\"colorbar\": {\"outlinewidth\": 0, \"ticks\": \"\"}, \"type\": \"choropleth\"}], \"contour\": [{\"colorbar\": {\"outlinewidth\": 0, \"ticks\": \"\"}, \"colorscale\": [[0.0, \"#0d0887\"], [0.1111111111111111, \"#46039f\"], [0.2222222222222222, \"#7201a8\"], [0.3333333333333333, \"#9c179e\"], [0.4444444444444444, \"#bd3786\"], [0.5555555555555556, \"#d8576b\"], [0.6666666666666666, \"#ed7953\"], [0.7777777777777778, \"#fb9f3a\"], [0.8888888888888888, \"#fdca26\"], [1.0, \"#f0f921\"]], \"type\": \"contour\"}], \"contourcarpet\": [{\"colorbar\": {\"outlinewidth\": 0, \"ticks\": \"\"}, \"type\": \"contourcarpet\"}], \"heatmap\": [{\"colorbar\": {\"outlinewidth\": 0, \"ticks\": \"\"}, \"colorscale\": [[0.0, \"#0d0887\"], [0.1111111111111111, \"#46039f\"], [0.2222222222222222, \"#7201a8\"], [0.3333333333333333, \"#9c179e\"], [0.4444444444444444, \"#bd3786\"], [0.5555555555555556, \"#d8576b\"], [0.6666666666666666, \"#ed7953\"], [0.7777777777777778, \"#fb9f3a\"], [0.8888888888888888, \"#fdca26\"], [1.0, \"#f0f921\"]], \"type\": \"heatmap\"}], \"heatmapgl\": [{\"colorbar\": {\"outlinewidth\": 0, \"ticks\": \"\"}, \"colorscale\": [[0.0, \"#0d0887\"], [0.1111111111111111, \"#46039f\"], [0.2222222222222222, \"#7201a8\"], [0.3333333333333333, \"#9c179e\"], [0.4444444444444444, \"#bd3786\"], [0.5555555555555556, \"#d8576b\"], [0.6666666666666666, \"#ed7953\"], [0.7777777777777778, \"#fb9f3a\"], [0.8888888888888888, \"#fdca26\"], [1.0, \"#f0f921\"]], \"type\": \"heatmapgl\"}], \"histogram\": [{\"marker\": {\"colorbar\": {\"outlinewidth\": 0, \"ticks\": \"\"}}, \"type\": \"histogram\"}], \"histogram2d\": [{\"colorbar\": {\"outlinewidth\": 0, \"ticks\": \"\"}, \"colorscale\": [[0.0, \"#0d0887\"], [0.1111111111111111, \"#46039f\"], [0.2222222222222222, \"#7201a8\"], [0.3333333333333333, \"#9c179e\"], [0.4444444444444444, \"#bd3786\"], [0.5555555555555556, \"#d8576b\"], [0.6666666666666666, \"#ed7953\"], [0.7777777777777778, \"#fb9f3a\"], [0.8888888888888888, \"#fdca26\"], [1.0, \"#f0f921\"]], \"type\": \"histogram2d\"}], \"histogram2dcontour\": [{\"colorbar\": {\"outlinewidth\": 0, \"ticks\": \"\"}, \"colorscale\": [[0.0, \"#0d0887\"], [0.1111111111111111, \"#46039f\"], [0.2222222222222222, \"#7201a8\"], [0.3333333333333333, \"#9c179e\"], [0.4444444444444444, \"#bd3786\"], [0.5555555555555556, \"#d8576b\"], [0.6666666666666666, \"#ed7953\"], [0.7777777777777778, \"#fb9f3a\"], [0.8888888888888888, \"#fdca26\"], [1.0, \"#f0f921\"]], \"type\": \"histogram2dcontour\"}], \"mesh3d\": [{\"colorbar\": {\"outlinewidth\": 0, \"ticks\": \"\"}, \"type\": \"mesh3d\"}], \"parcoords\": [{\"line\": {\"colorbar\": {\"outlinewidth\": 0, \"ticks\": \"\"}}, \"type\": \"parcoords\"}], \"pie\": [{\"automargin\": true, \"type\": \"pie\"}], \"scatter\": [{\"marker\": {\"colorbar\": {\"outlinewidth\": 0, \"ticks\": \"\"}}, \"type\": \"scatter\"}], \"scatter3d\": [{\"line\": {\"colorbar\": {\"outlinewidth\": 0, \"ticks\": \"\"}}, \"marker\": {\"colorbar\": {\"outlinewidth\": 0, \"ticks\": \"\"}}, \"type\": \"scatter3d\"}], \"scattercarpet\": [{\"marker\": {\"colorbar\": {\"outlinewidth\": 0, \"ticks\": \"\"}}, \"type\": \"scattercarpet\"}], \"scattergeo\": [{\"marker\": {\"colorbar\": {\"outlinewidth\": 0, \"ticks\": \"\"}}, \"type\": \"scattergeo\"}], \"scattergl\": [{\"marker\": {\"colorbar\": {\"outlinewidth\": 0, \"ticks\": \"\"}}, \"type\": \"scattergl\"}], \"scattermapbox\": [{\"marker\": {\"colorbar\": {\"outlinewidth\": 0, \"ticks\": \"\"}}, \"type\": \"scattermapbox\"}], \"scatterpolar\": [{\"marker\": {\"colorbar\": {\"outlinewidth\": 0, \"ticks\": \"\"}}, \"type\": \"scatterpolar\"}], \"scatterpolargl\": [{\"marker\": {\"colorbar\": {\"outlinewidth\": 0, \"ticks\": \"\"}}, \"type\": \"scatterpolargl\"}], \"scatterternary\": [{\"marker\": {\"colorbar\": {\"outlinewidth\": 0, \"ticks\": \"\"}}, \"type\": \"scatterternary\"}], \"surface\": [{\"colorbar\": {\"outlinewidth\": 0, \"ticks\": \"\"}, \"colorscale\": [[0.0, \"#0d0887\"], [0.1111111111111111, \"#46039f\"], [0.2222222222222222, \"#7201a8\"], [0.3333333333333333, \"#9c179e\"], [0.4444444444444444, \"#bd3786\"], [0.5555555555555556, \"#d8576b\"], [0.6666666666666666, \"#ed7953\"], [0.7777777777777778, \"#fb9f3a\"], [0.8888888888888888, \"#fdca26\"], [1.0, \"#f0f921\"]], \"type\": \"surface\"}], \"table\": [{\"cells\": {\"fill\": {\"color\": \"#EBF0F8\"}, \"line\": {\"color\": \"white\"}}, \"header\": {\"fill\": {\"color\": \"#C8D4E3\"}, \"line\": {\"color\": \"white\"}}, \"type\": \"table\"}]}, \"layout\": {\"annotationdefaults\": {\"arrowcolor\": \"#2a3f5f\", \"arrowhead\": 0, \"arrowwidth\": 1}, \"autotypenumbers\": \"strict\", \"coloraxis\": {\"colorbar\": {\"outlinewidth\": 0, \"ticks\": \"\"}}, \"colorscale\": {\"diverging\": [[0, \"#8e0152\"], [0.1, \"#c51b7d\"], [0.2, \"#de77ae\"], [0.3, \"#f1b6da\"], [0.4, \"#fde0ef\"], [0.5, \"#f7f7f7\"], [0.6, \"#e6f5d0\"], [0.7, \"#b8e186\"], [0.8, \"#7fbc41\"], [0.9, \"#4d9221\"], [1, \"#276419\"]], \"sequential\": [[0.0, \"#0d0887\"], [0.1111111111111111, \"#46039f\"], [0.2222222222222222, \"#7201a8\"], [0.3333333333333333, \"#9c179e\"], [0.4444444444444444, \"#bd3786\"], [0.5555555555555556, \"#d8576b\"], [0.6666666666666666, \"#ed7953\"], [0.7777777777777778, \"#fb9f3a\"], [0.8888888888888888, \"#fdca26\"], [1.0, \"#f0f921\"]], \"sequentialminus\": [[0.0, \"#0d0887\"], [0.1111111111111111, \"#46039f\"], [0.2222222222222222, \"#7201a8\"], [0.3333333333333333, \"#9c179e\"], [0.4444444444444444, \"#bd3786\"], [0.5555555555555556, \"#d8576b\"], [0.6666666666666666, \"#ed7953\"], [0.7777777777777778, \"#fb9f3a\"], [0.8888888888888888, \"#fdca26\"], [1.0, \"#f0f921\"]]}, \"colorway\": [\"#636efa\", \"#EF553B\", \"#00cc96\", \"#ab63fa\", \"#FFA15A\", \"#19d3f3\", \"#FF6692\", \"#B6E880\", \"#FF97FF\", \"#FECB52\"], \"font\": {\"color\": \"#2a3f5f\"}, \"geo\": {\"bgcolor\": \"white\", \"lakecolor\": \"white\", \"landcolor\": \"#E5ECF6\", \"showlakes\": true, \"showland\": true, \"subunitcolor\": \"white\"}, \"hoverlabel\": {\"align\": \"left\"}, \"hovermode\": \"closest\", \"mapbox\": {\"style\": \"light\"}, \"paper_bgcolor\": \"white\", \"plot_bgcolor\": \"#E5ECF6\", \"polar\": {\"angularaxis\": {\"gridcolor\": \"white\", \"linecolor\": \"white\", \"ticks\": \"\"}, \"bgcolor\": \"#E5ECF6\", \"radialaxis\": {\"gridcolor\": \"white\", \"linecolor\": \"white\", \"ticks\": \"\"}}, \"scene\": {\"xaxis\": {\"backgroundcolor\": \"#E5ECF6\", \"gridcolor\": \"white\", \"gridwidth\": 2, \"linecolor\": \"white\", \"showbackground\": true, \"ticks\": \"\", \"zerolinecolor\": \"white\"}, \"yaxis\": {\"backgroundcolor\": \"#E5ECF6\", \"gridcolor\": \"white\", \"gridwidth\": 2, \"linecolor\": \"white\", \"showbackground\": true, \"ticks\": \"\", \"zerolinecolor\": \"white\"}, \"zaxis\": {\"backgroundcolor\": \"#E5ECF6\", \"gridcolor\": \"white\", \"gridwidth\": 2, \"linecolor\": \"white\", \"showbackground\": true, \"ticks\": \"\", \"zerolinecolor\": \"white\"}}, \"shapedefaults\": {\"line\": {\"color\": \"#2a3f5f\"}}, \"ternary\": {\"aaxis\": {\"gridcolor\": \"white\", \"linecolor\": \"white\", \"ticks\": \"\"}, \"baxis\": {\"gridcolor\": \"white\", \"linecolor\": \"white\", \"ticks\": \"\"}, \"bgcolor\": \"#E5ECF6\", \"caxis\": {\"gridcolor\": \"white\", \"linecolor\": \"white\", \"ticks\": \"\"}}, \"title\": {\"x\": 0.05}, \"xaxis\": {\"automargin\": true, \"gridcolor\": \"white\", \"linecolor\": \"white\", \"ticks\": \"\", \"title\": {\"standoff\": 15}, \"zerolinecolor\": \"white\", \"zerolinewidth\": 2}, \"yaxis\": {\"automargin\": true, \"gridcolor\": \"white\", \"linecolor\": \"white\", \"ticks\": \"\", \"title\": {\"standoff\": 15}, \"zerolinecolor\": \"white\", \"zerolinewidth\": 2}}}, \"title\": {\"text\": \"\"}, \"width\": 900, \"xaxis\": {\"title\": {\"text\": \"Number of samples processed\"}}, \"yaxis\": {\"tickformat\": \".1e\", \"title\": {\"text\": \"Values\"}}},                        {\"responsive\": true}                    ).then(function(){\n                            \nvar gd = document.getElementById('d8aad980-6f9c-417d-9aad-9e8458d341a1');\nvar x = new MutationObserver(function (mutations, observer) {{\n        var display = window.getComputedStyle(gd).display;\n        if (!display || display === 'none') {{\n            console.log([gd, 'removed!']);\n            Plotly.purge(gd);\n            observer.disconnect();\n        }}\n}});\n\n// Listen for the removal of the full notebook cells\nvar notebookContainer = gd.closest('#notebook-container');\nif (notebookContainer) {{\n    x.observe(notebookContainer, {childList: true});\n}}\n\n// Listen for the clearing of the current output cell\nvar outputEl = gd.closest('.output');\nif (outputEl) {{\n    x.observe(outputEl, {childList: true});\n}}\n\n                        })                };                });            </script>        </div>"
     },
     "metadata": {},
     "output_type": "display_data"
    },
    {
     "name": "stdout",
     "output_type": "stream",
     "text": [
      "error_threshold0.5\n"
     ]
    },
    {
     "data": {
      "text/plain": "<Figure size 432x288 with 0 Axes>"
     },
     "metadata": {},
     "output_type": "display_data"
    }
   ],
   "source": [
    "filtered_dataframe = data.df\n",
    "import ipywidgets as widgets\n",
    "class PersoToggleButton(widgets.ToggleButton):\n",
    "    def __init__(self,name=None,*args,**kargs):\n",
    "        super(PersoToggleButton, self).__init__(*args,**kargs)\n",
    "        self.name = name\n",
    "\n",
    "compute_width = lambda value:f\"{max(len(str(value)) * 12, 60) + 20}px\"\n",
    "list_vertical_widgets = []\n",
    "dico_changing_widgets_metadata = {}\n",
    "list_changing_widgets_metrics = []\n",
    "list_changing_widgets_tr_valid = []\n",
    "# Widgets for the metadata ------------------------------------------------------------------\n",
    "label_metadata_filter = \"Metadata\"\n",
    "llocalvertwidgets = []\n",
    "dico_changing_widgets_reorganized = {\"metadata\":{},\"metrics\":{},\"mode\":{}}\n",
    "for metadata_name in df.columns:\n",
    "\n",
    "    if metadata_name == \"folder_id\":\n",
    "        continue\n",
    "    possible_values = df[metadata_name].unique()\n",
    "    label = widgets.Label(metadata_name)\n",
    "    dico_changing_widgets_reorganized[\"metadata\"][metadata_name] = {str(value):PersoToggleButton(\n",
    "        value=True,\n",
    "        description=str(value),\n",
    "        disabled=False,\n",
    "        button_style='', # 'success', 'info', 'warning', 'danger' or ''\n",
    "        tooltip='',\n",
    "        icon='check',\n",
    "        layout = widgets.Layout(width = compute_width(value), margin='0px 0px 0px 0px'),\n",
    "        name=\"metadata|\"+metadata_name\n",
    "    ) for value in possible_values}\n",
    "\n",
    "    possibilities = list(dico_changing_widgets_reorganized[\"metadata\"][metadata_name].values())\n",
    "    dico_changing_widgets_metadata[metadata_name] = possibilities\n",
    "    box = widgets.HBox(layout=widgets.Layout(width='100%',display='inline-flex',flex_flow='row wrap'),width='100%')\n",
    "    box.overflow_x = 'auto'\n",
    "    box.children = [label]+possibilities\n",
    "    llocalvertwidgets.append(box)\n",
    "\n",
    "box = widgets.VBox(width='100%')\n",
    "box.children = llocalvertwidgets\n",
    "list_vertical_widgets.append(box)\n",
    "# Widgets to select metrics ---------------------------------------------------------------\n",
    "label_metrics_filter = \"Metrics\"\n",
    "dico_changing_widgets_reorganized[\"metrics\"] = {str(metric_name):PersoToggleButton(\n",
    "        value=True,\n",
    "        description=metric_name,\n",
    "        disabled=False,\n",
    "        button_style='', # 'success', 'info', 'warning', 'danger' or ''\n",
    "        tooltip='',\n",
    "        icon='check',\n",
    "        layout = widgets.Layout(width = compute_width(metric_name), margin='0px 0px 0px 0px'),\n",
    "        name=\"metrics\"\n",
    "    )\n",
    "    for metric_name in available_metrics}\n",
    "possibilities = list(dico_changing_widgets_reorganized[\"metrics\"].values())\n",
    "list_changing_widgets_metrics = possibilities\n",
    "box = widgets.HBox(layout=widgets.Layout(width='100%',display='inline-flex',flex_flow='row wrap'),width='100%')\n",
    "box.overflow_x = 'auto'\n",
    "box.children = possibilities\n",
    "list_vertical_widgets.append(box)\n",
    "\n",
    "# widgets to select tr or valid ----------------------------------------------------------\n",
    "label_tr_valid_filter = \"Mode_of_training\"\n",
    "possibilities = [PersoToggleButton(\n",
    "        value=True,\n",
    "        description=mode,\n",
    "        disabled=False,\n",
    "        button_style='', # 'success', 'info', 'warning', 'danger' or ''\n",
    "        tooltip='',\n",
    "        icon='check',\n",
    "        layout = widgets.Layout(width = compute_width(mode), margin='0px 0px 0px 0px'),\n",
    "        name=\"mode\"\n",
    "    )\n",
    "    for mode in [\"tr\",\"valid\"]]\n",
    "list_changing_widgets_tr_valid = possibilities\n",
    "box = widgets.HBox(layout=widgets.Layout(width='100%',display='inline-flex',flex_flow='row wrap'),width='100%')\n",
    "box.overflow_x = 'auto'\n",
    "box.children = possibilities\n",
    "list_vertical_widgets.append(box)\n",
    "\n",
    "titles = [\"Metadata\", \"Metrics\",\"Mode_of_training\"]\n",
    "l = []\n",
    "for i,[item,title] in enumerate((zip(list_vertical_widgets,titles))):\n",
    "    accordion = widgets.Accordion(children=[item],titles=(title,))\n",
    "    accordion.set_title(0,title)\n",
    "    accordion.selected_index = 0\n",
    "    if i == 0:\n",
    "        accordion.selected_index = None\n",
    "    l.append(accordion)\n",
    "# widget for moving average\n",
    "moving_average = widgets.IntText(\n",
    "    value=100,\n",
    "    description='mean_window',\n",
    "    disabled=False\n",
    ")\n",
    "# widget to toggle log scale for the y axis\n",
    "y_log_scale = widgets.ToggleButton(\n",
    "        value=True,\n",
    "        description=\"logy\",\n",
    "        disabled=False,\n",
    "        button_style='', # 'success', 'info', 'warning', 'danger' or ''\n",
    "        tooltip='',\n",
    "        icon='check',\n",
    "        layout = widgets.Layout(width = compute_width(\"logy\"), margin='0px 0px 0px 0px')\n",
    "    )\n",
    "\n",
    "global_box = widgets.VBox(l+[moving_average,y_log_scale])\n",
    "\n",
    "# Handlers --------------------------------------------------------------------------------------\n",
    "from IPython.display import display,clear_output\n",
    "import plotly.graph_objects as go\n",
    "import plotly.offline as pyo\n",
    "pyo.init_notebook_mode()\n",
    "\n",
    "def filter_metrics(runs):\n",
    "    global states\n",
    "    new_dico = {}\n",
    "    for f,dico in dico_metrics.items():\n",
    "        if f not in runs:\n",
    "            continue\n",
    "        new_dico[f] = {}\n",
    "        for metric_name,list_values in dico.items():\n",
    "            if states[\"metrics\"][metric_name] is True:\n",
    "                new_dico[f][metric_name] = list_values\n",
    "    return new_dico\n",
    "def plot(dico_vals,filtered_dataframe):\n",
    "    global states\n",
    "    import numpy as np\n",
    "    list_scatters = []\n",
    "    import matplotlib.pyplot as plt\n",
    "    for run,dico_metrics in dico_vals.items():\n",
    "        line_dataframe = filtered_dataframe[filtered_dataframe[\"folder_id\"] == run]\n",
    "        batch_size_tr = line_dataframe[\"tr_batch_size\"].values[0]\n",
    "        batch_size_valid = line_dataframe[\"valid_batch_size\"].values[0]\n",
    "        for metric_name,metric_values in dico_metrics.items():\n",
    "            if metric_name == \"loss\":\n",
    "                metric_name = \"loss_\"+filtered_dataframe[filtered_dataframe[\"folder_id\"] == run][\"loss\"].values[0]\n",
    "            access_name = \"_values\"\n",
    "            for mode,state in states[\"mode\"].items():\n",
    "                if state is False:\n",
    "                    continue\n",
    "                batch_size = batch_size_tr if mode == \"tr\" else batch_size_valid\n",
    "                print(mode,\"!!!!!!!!!!!!!!\",batch_size)\n",
    "                access_name1 = mode\n",
    "                v = metric_values[access_name1]\n",
    "                window = int(moving_average.value/batch_size)\n",
    "                new_values = []\n",
    "                for i in range(len(v)-window):\n",
    "                    new_values.append(np.mean(v[i:min(i+window,len(v))]))\n",
    "                v = np.array(new_values)\n",
    "                x = np.arange(0,v.shape[0]) * batch_size\n",
    "                x = pd.Series(x)\n",
    "                v = pd.Series(v)\n",
    "                graph = go.Scatter(x=x,y=v,mode='lines',name=f\"{metric_name} {mode} {run}\",\n",
    "                                   hovertemplate='Sample n°: %{x}'+f'<br>{metric_name} {mode}<br>{run}:'+' %{y}')\n",
    "                list_scatters.append(graph)\n",
    "    plt.clf()\n",
    "    fig = go.Figure(\n",
    "        data=list_scatters,\n",
    "        layout=go.Layout(\n",
    "            title=go.layout.Title(text=\"\"),\n",
    "            xaxis_title=\"Number of samples processed\",\n",
    "            yaxis_title=\"Values\",\n",
    "            legend=dict(\n",
    "                orientation=\"h\",\n",
    "                y=1,\n",
    "                x=1\n",
    "            ),\n",
    "            yaxis={'tickformat':'.1e',},\n",
    "            width=900,\n",
    "            height = 500\n",
    "        ),\n",
    "    )\n",
    "    if states[\"others\"][\"logy\"] is True:\n",
    "        fig.update_yaxes(type=\"log\")\n",
    "    clear_output()\n",
    "    display(global_box)\n",
    "    pyo.iplot(fig)\n",
    "states = {\"others\":{\"mean_window\":moving_average.value,\"logy\":False},\n",
    "          \"mode\":{\"tr\":False,\"valid\":False},\n",
    "          \"metrics\":{k:False for k in available_metrics},\n",
    "          \"metadata\":{k:{\n",
    "              str(k1):False for k1 in df[k].unique()\n",
    "          } for k in df.columns}\n",
    "          }\n",
    "def handler(v):\n",
    "    global query\n",
    "    if v[\"name\"] == \"disabled\":\n",
    "        return\n",
    "    global states\n",
    "    try:\n",
    "        name = \"others\"\n",
    "        try:\n",
    "            name = v[\"owner\"].name\n",
    "        except:\n",
    "            pass\n",
    "        name = name.split(\"|\")\n",
    "        try:\n",
    "            new_val = not(v[\"new\"][\"value\"])\n",
    "        except:\n",
    "            new_val = not(v[\"new\"])\n",
    "    except Exception as e:\n",
    "        return\n",
    "    if len(name) == 2:\n",
    "        states[name[0]][name[1]][v[\"owner\"].description] = not(states[name[0]][name[1]][v[\"owner\"].description])\n",
    "    else:\n",
    "        states[name[0]][v[\"owner\"].description] = not(states[name[0]][v[\"owner\"].description])\n",
    "    runs = filtered_dataframe[\"folder_id\"].unique()\n",
    "    dico_vals = filter_metrics(runs)\n",
    "    plot(dico_vals,filtered_dataframe)\n",
    "    try:\n",
    "        print(dico_vals['2021-06-20_17h39min55s_'][\"mae\"])\n",
    "    except:\n",
    "        pass\n",
    "    print(metric_name)\n",
    "\n",
    "for name,liste_w in dico_changing_widgets_metadata.items():\n",
    "    for w in liste_w:\n",
    "        w.observe(handler)\n",
    "for w in list_changing_widgets_metrics:\n",
    "    w.observe(handler)\n",
    "list_changing_widgets_metrics[-1].value = True\n",
    "for w in list_changing_widgets_tr_valid:\n",
    "    w.observe(handler)\n",
    "for w in [moving_average,y_log_scale]:\n",
    "    w.observe(handler)\n",
    "global_box"
   ]
  },
  {
   "cell_type": "markdown",
   "source": [
    "RGB Overlay"
   ],
   "metadata": {
    "collapsed": false,
    "pycharm": {
     "name": "#%% md\n"
    }
   }
  },
  {
   "cell_type": "code",
   "execution_count": 1,
   "outputs": [
    {
     "name": "stdout",
     "output_type": "stream",
     "text": [
      "using gpu\n",
      "99\r"
     ]
    },
    {
     "ename": "MemoryError",
     "evalue": "Unable to allocate 2.18 GiB for an array with shape (10600, 18441, 3) and data type float32",
     "output_type": "error",
     "traceback": [
      "\u001B[1;31m---------------------------------------------------------------------------\u001B[0m",
      "\u001B[1;31mMemoryError\u001B[0m                               Traceback (most recent call last)",
      "\u001B[1;32m<ipython-input-1-0b433f5d8ce2>\u001B[0m in \u001B[0;36m<module>\u001B[1;34m\u001B[0m\n\u001B[0;32m     13\u001B[0m \u001B[0mmodel\u001B[0m\u001B[1;33m.\u001B[0m\u001B[0meval\u001B[0m\u001B[1;33m(\u001B[0m\u001B[1;33m)\u001B[0m\u001B[1;33m\u001B[0m\u001B[1;33m\u001B[0m\u001B[0m\n\u001B[0;32m     14\u001B[0m \u001B[0mrgb_overlay\u001B[0m \u001B[1;33m=\u001B[0m \u001B[0mRGB_Overlay2\u001B[0m\u001B[1;33m(\u001B[0m\u001B[0mstandardizer\u001B[0m\u001B[1;33m=\u001B[0m\u001B[0mStandardizerCacheMixed\u001B[0m\u001B[1;33m(\u001B[0m\u001B[0minterval\u001B[0m\u001B[1;33m=\u001B[0m\u001B[1;36m1\u001B[0m\u001B[1;33m)\u001B[0m\u001B[1;33m)\u001B[0m\u001B[1;33m\u001B[0m\u001B[1;33m\u001B[0m\u001B[0m\n\u001B[1;32m---> 15\u001B[1;33m \u001B[0mrgb_overlay\u001B[0m\u001B[1;33m(\u001B[0m\u001B[0mmodel\u001B[0m\u001B[1;33m,\u001B[0m\u001B[0mdevice\u001B[0m\u001B[1;33m)\u001B[0m\u001B[1;33m\u001B[0m\u001B[1;33m\u001B[0m\u001B[0m\n\u001B[0m",
      "\u001B[1;32m~\\Documents\\projets\\detection_nappe_hydrocarbures_IMT_cefrem\\main\\src\\analysis\\analysis\\RGB_Overlay2.py\u001B[0m in \u001B[0;36m__call__\u001B[1;34m(self, model, device)\u001B[0m\n\u001B[0;32m    138\u001B[0m     \u001B[1;32mdef\u001B[0m \u001B[0m__call__\u001B[0m\u001B[1;33m(\u001B[0m\u001B[0mself\u001B[0m\u001B[1;33m,\u001B[0m \u001B[0mmodel\u001B[0m\u001B[1;33m,\u001B[0m\u001B[0mdevice\u001B[0m\u001B[1;33m)\u001B[0m\u001B[1;33m:\u001B[0m\u001B[1;33m\u001B[0m\u001B[1;33m\u001B[0m\u001B[0m\n\u001B[0;32m    139\u001B[0m         \u001B[0mmodel\u001B[0m\u001B[1;33m.\u001B[0m\u001B[0mload_state_dict\u001B[0m\u001B[1;33m(\u001B[0m\u001B[0mtorch\u001B[0m\u001B[1;33m.\u001B[0m\u001B[0mload\u001B[0m\u001B[1;33m(\u001B[0m\u001B[1;34mr\"C:\\Users\\robin\\Documents\\projets\\detection_nappe_hydrocarbures_IMT_cefrem\\data_out\\2021-07-21_02h37min54s_\\2021-07-21_02h37min54s__model_epoch-14_it-15923.pt\"\u001B[0m\u001B[1;33m)\u001B[0m\u001B[1;33m)\u001B[0m\u001B[1;33m\u001B[0m\u001B[1;33m\u001B[0m\u001B[0m\n\u001B[1;32m--> 140\u001B[1;33m         \u001B[0mself\u001B[0m\u001B[1;33m.\u001B[0m\u001B[0mgenerate_overlay_matrices\u001B[0m\u001B[1;33m(\u001B[0m\u001B[0mself\u001B[0m\u001B[1;33m.\u001B[0m\u001B[0mname_img\u001B[0m\u001B[1;33m,\u001B[0m\u001B[0mmodel\u001B[0m\u001B[1;33m=\u001B[0m\u001B[0mmodel\u001B[0m\u001B[1;33m,\u001B[0m\u001B[0mdevice\u001B[0m\u001B[1;33m=\u001B[0m\u001B[0mdevice\u001B[0m\u001B[1;33m,\u001B[0m\u001B[0mthreshold\u001B[0m\u001B[1;33m=\u001B[0m\u001B[1;36m0.5\u001B[0m\u001B[1;33m)\u001B[0m\u001B[1;33m\u001B[0m\u001B[1;33m\u001B[0m\u001B[0m\n\u001B[0m",
      "\u001B[1;32m~\\Documents\\projets\\detection_nappe_hydrocarbures_IMT_cefrem\\main\\src\\analysis\\analysis\\RGB_Overlay2.py\u001B[0m in \u001B[0;36mgenerate_overlay_matrices\u001B[1;34m(self, name_img, model, device, threshold)\u001B[0m\n\u001B[0;32m     78\u001B[0m                                      mapped_corner_upperleft[0]:mapped_corner_bottomright[0], i] *= annotation_patch[i]\n\u001B[0;32m     79\u001B[0m \u001B[1;33m\u001B[0m\u001B[0m\n\u001B[1;32m---> 80\u001B[1;33m                 \u001B[0mreconstructed_image\u001B[0m \u001B[1;33m=\u001B[0m \u001B[0mnp\u001B[0m\u001B[1;33m.\u001B[0m\u001B[0mstack\u001B[0m\u001B[1;33m(\u001B[0m\u001B[1;33m(\u001B[0m\u001B[0mself\u001B[0m\u001B[1;33m.\u001B[0m\u001B[0mnormalize\u001B[0m\u001B[1;33m(\u001B[0m\u001B[0moriginal_image\u001B[0m\u001B[1;33m)\u001B[0m \u001B[1;33m*\u001B[0m \u001B[0mthreshold\u001B[0m\u001B[1;33m,\u001B[0m\u001B[1;33m)\u001B[0m\u001B[1;33m*\u001B[0m\u001B[1;36m3\u001B[0m\u001B[1;33m,\u001B[0m\u001B[0maxis\u001B[0m\u001B[1;33m=\u001B[0m\u001B[1;33m-\u001B[0m\u001B[1;36m1\u001B[0m\u001B[1;33m)\u001B[0m\u001B[1;33m\u001B[0m\u001B[1;33m\u001B[0m\u001B[0m\n\u001B[0m\u001B[0;32m     81\u001B[0m                 \u001B[0moverlay_true\u001B[0m \u001B[1;33m=\u001B[0m \u001B[0mreconstructed_image\u001B[0m\u001B[1;33m+\u001B[0m\u001B[0mself\u001B[0m\u001B[1;33m.\u001B[0m\u001B[0mnormalize\u001B[0m\u001B[1;33m(\u001B[0m\u001B[0moverlay_true\u001B[0m\u001B[1;33m)\u001B[0m \u001B[1;33m*\u001B[0m \u001B[1;33m(\u001B[0m\u001B[1;36m1\u001B[0m\u001B[1;33m-\u001B[0m\u001B[0mthreshold\u001B[0m\u001B[1;33m)\u001B[0m\u001B[1;33m\u001B[0m\u001B[1;33m\u001B[0m\u001B[0m\n\u001B[0;32m     82\u001B[0m \u001B[1;33m\u001B[0m\u001B[0m\n",
      "\u001B[1;32m<__array_function__ internals>\u001B[0m in \u001B[0;36mstack\u001B[1;34m(*args, **kwargs)\u001B[0m\n",
      "\u001B[1;32mC:\\Anaconda\\envs\\pytorch\\lib\\site-packages\\numpy\\core\\shape_base.py\u001B[0m in \u001B[0;36mstack\u001B[1;34m(arrays, axis, out)\u001B[0m\n\u001B[0;32m    432\u001B[0m     \u001B[0msl\u001B[0m \u001B[1;33m=\u001B[0m \u001B[1;33m(\u001B[0m\u001B[0mslice\u001B[0m\u001B[1;33m(\u001B[0m\u001B[1;32mNone\u001B[0m\u001B[1;33m)\u001B[0m\u001B[1;33m,\u001B[0m\u001B[1;33m)\u001B[0m \u001B[1;33m*\u001B[0m \u001B[0maxis\u001B[0m \u001B[1;33m+\u001B[0m \u001B[1;33m(\u001B[0m\u001B[0m_nx\u001B[0m\u001B[1;33m.\u001B[0m\u001B[0mnewaxis\u001B[0m\u001B[1;33m,\u001B[0m\u001B[1;33m)\u001B[0m\u001B[1;33m\u001B[0m\u001B[1;33m\u001B[0m\u001B[0m\n\u001B[0;32m    433\u001B[0m     \u001B[0mexpanded_arrays\u001B[0m \u001B[1;33m=\u001B[0m \u001B[1;33m[\u001B[0m\u001B[0marr\u001B[0m\u001B[1;33m[\u001B[0m\u001B[0msl\u001B[0m\u001B[1;33m]\u001B[0m \u001B[1;32mfor\u001B[0m \u001B[0marr\u001B[0m \u001B[1;32min\u001B[0m \u001B[0marrays\u001B[0m\u001B[1;33m]\u001B[0m\u001B[1;33m\u001B[0m\u001B[1;33m\u001B[0m\u001B[0m\n\u001B[1;32m--> 434\u001B[1;33m     \u001B[1;32mreturn\u001B[0m \u001B[0m_nx\u001B[0m\u001B[1;33m.\u001B[0m\u001B[0mconcatenate\u001B[0m\u001B[1;33m(\u001B[0m\u001B[0mexpanded_arrays\u001B[0m\u001B[1;33m,\u001B[0m \u001B[0maxis\u001B[0m\u001B[1;33m=\u001B[0m\u001B[0maxis\u001B[0m\u001B[1;33m,\u001B[0m \u001B[0mout\u001B[0m\u001B[1;33m=\u001B[0m\u001B[0mout\u001B[0m\u001B[1;33m)\u001B[0m\u001B[1;33m\u001B[0m\u001B[1;33m\u001B[0m\u001B[0m\n\u001B[0m\u001B[0;32m    435\u001B[0m \u001B[1;33m\u001B[0m\u001B[0m\n\u001B[0;32m    436\u001B[0m \u001B[1;33m\u001B[0m\u001B[0m\n",
      "\u001B[1;32m<__array_function__ internals>\u001B[0m in \u001B[0;36mconcatenate\u001B[1;34m(*args, **kwargs)\u001B[0m\n",
      "\u001B[1;31mMemoryError\u001B[0m: Unable to allocate 2.18 GiB for an array with shape (10600, 18441, 3) and data type float32"
     ]
    }
   ],
   "source": [
    "from main.src.models.ModelFactory import ModelFactory\n",
    "from main.src.enums import *\n",
    "from main.src.analysis.analysis.RGB_Overlay2 import RGB_Overlay2\n",
    "from main.src.data.Standardizer.StandardizerCacheMixed import StandardizerCacheMixed\n",
    "import torch\n",
    "from main.FolderInfos import FolderInfos\n",
    "id = \"2021-07-22_16h46min16s\"\n",
    "path_pt_file = r\"C:\\Users\\robin\\Documents\\projets\\detection_nappe_hydrocarbures_IMT_cefrem\\data_out\\2021-07-22_16h46min16s_\\2021-07-22_16h46min16s__model_epoch-9_it-15923.pt\"\n",
    "FolderInfos.init(with_id=id)\n",
    "model = ModelFactory(EnumModels.Resnet152,num_classes=2,freeze=EnumFreeze.NoFreeze).model\n",
    "device = torch.device(\"cuda\")\n",
    "model.load_state_dict(torch.load(path_pt_file))\n",
    "model.eval()\n",
    "rgb_overlay = RGB_Overlay2(standardizer=StandardizerCacheMixed(interval=1))\n",
    "rgb_overlay(model,device)"
   ],
   "metadata": {
    "collapsed": false,
    "pycharm": {
     "name": "#%%\n"
    }
   }
  },
  {
   "cell_type": "markdown",
   "metadata": {
    "pycharm": {
     "name": "#%% md\n"
    }
   },
   "source": [
    "Confusion matrix"
   ]
  },
  {
   "cell_type": "code",
   "execution_count": 2,
   "outputs": [
    {
     "data": {
      "text/plain": "0"
     },
     "execution_count": 2,
     "metadata": {},
     "output_type": "execute_result"
    }
   ],
   "source": [
    "from main.src.analysis.analysis.metadata.confusion_matrix.backend import ConfusionMatrixBackend\n",
    "from main.FolderInfos import FolderInfos\n",
    "import json\n",
    "FolderInfos.init(test_without_data=True)\n",
    "folder = \"2021-07-26_13h29min50s_\"\n",
    "with open(FolderInfos.data_folder+FolderInfos.separator.join([folder,folder+\"parameters.json\"]),\"r\") as fp:\n",
    "    dico = json.load(fp)\n",
    "epoch = dico[\"trainer\"][\"attr_last_epoch\"]\n",
    "it = dico[\"trainer\"][\"attr_last_iter\"]\n",
    "with open(FolderInfos.root_folder+FolderInfos.separator.join([\"main\",\"src\",\"analysis\",\"extract_data.json\"]),\"r\") as fp:\n",
    "    extract_functions_dict = json.load(fp)\n",
    "value_functions = extract_functions_dict[\"confusion_matrix\"][\"value\"]\n",
    "names_functions = extract_functions_dict[\"confusion_matrix\"][\"names\"]\n",
    "confusion_matrix = ConfusionMatrixBackend(dico,value_functions,names_functions)\n",
    "html = confusion_matrix.html\n",
    "path = FolderInfos.data_folder+FolderInfos.separator.join([folder,folder+f\"confusion_matrix_epoch_{epoch}_it_{it}.html\"])\n",
    "with open(path,\"w\") as fp:\n",
    "    fp.write(html)\n",
    "\n",
    "\n",
    "import os\n",
    "os.system(\"python -m webbrowser -t \"+path)\n"
   ],
   "metadata": {
    "collapsed": false,
    "pycharm": {
     "name": "#%%\n"
    }
   }
  }
 ],
 "metadata": {
  "kernelspec": {
   "display_name": "pytorch",
   "language": "python",
   "name": "pytorch"
  },
  "language_info": {
   "codemirror_mode": {
    "name": "ipython",
    "version": 3
   },
   "file_extension": ".py",
   "mimetype": "text/x-python",
   "name": "python",
   "nbconvert_exporter": "python",
   "pygments_lexer": "ipython3",
   "version": "3.7.10"
  },
  "pycharm": {
   "stem_cell": {
    "cell_type": "raw",
    "source": [
     "\"\"\"Ipython notebook to analyse the results\"\"\""
    ],
    "metadata": {
     "collapsed": false
    }
   }
  }
 },
 "nbformat": 4,
 "nbformat_minor": 4
}