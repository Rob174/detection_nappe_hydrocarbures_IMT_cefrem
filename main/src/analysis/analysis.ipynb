{
 "cells": [
  {
   "cell_type": "markdown",
   "metadata": {
    "pycharm": {
     "name": "#%% md\n"
    }
   },
   "source": [
    "# Analysis"
   ]
  },
  {
   "cell_type": "markdown",
   "metadata": {
    "pycharm": {
     "name": "#%% md\n"
    }
   },
   "source": [
    "## Get backend data"
   ]
  },
  {
   "cell_type": "code",
   "execution_count": 4,
   "metadata": {
    "pycharm": {
     "name": "#%%\n"
    }
   },
   "outputs": [
    {
     "name": "stdout",
     "output_type": "stream",
     "text": [
      "hey\n"
     ]
    }
   ],
   "source": [
    "print(\"hey\")"
   ]
  },
  {
   "cell_type": "code",
   "execution_count": 1,
   "metadata": {
    "pycharm": {
     "name": "#%%\n"
    }
   },
   "outputs": [
    {
     "name": "stdout",
     "output_type": "stream",
     "text": [
      "👍 Backend data ready !\n",
      "To see runs availables launch the launch_taboo.py script\n",
      "at C:\\Users\\robin\\Documents\\projets\\detection_nappe_hydrocarbures_IMT_cefrem\\main\\src\\analysis\\launch_taboo.py . \n",
      "⚠️ the python launch_taboo.py process needs to be killed \n",
      "once you do not need to visualize anymore the dataframe. \n",
      "Closing the web navigator window is not sufficient !\n"
     ]
    }
   ],
   "source": [
    "import os, re, sys\n",
    "sys.path.append(r\"C:\\Users\\robin\\Documents\\projets\\detection_nappe_hydrocarbures_IMT_cefrem\")\n",
    "sys.path.append(r\"C:\\Users\\robin\\Documents\\projets\\detection_nappe_hydrocarbures_IMT_cefrem\\main\")\n",
    "sys.path.append(r\"C:\\Users\\robin\\Documents\\projets\\detection_nappe_hydrocarbures_IMT_cefrem\\main\\src\")\n",
    "sys.path.append(r\"C:\\Users\\robin\\Documents\\projets\")\n",
    "from main.FolderInfos import FolderInfos\n",
    "import pandas as pd\n",
    "import json\n",
    "\n",
    "\n",
    "FolderInfos.init(test_without_data=True)\n",
    "list_dataout_folders = os.listdir(FolderInfos.data_folder)\n",
    "with open(FolderInfos.root_folder+\"main\"+FolderInfos.separator+\"src\"+FolderInfos.separator+\"analysis\"+FolderInfos.separator+\"extract_data.json\",\"r\") as fp:\n",
    "    dico_access = json.load(fp)\n",
    "dico_metrics = {}\n",
    "available_metrics = dico_access[\"metrics\"].keys()\n",
    "runs_metadata = []\n",
    "for f in list_dataout_folders:\n",
    "    path_json = FolderInfos.data_folder+f+FolderInfos.separator+f+\"parameters.json\"\n",
    "\n",
    "    if os.path.exists(path_json) is True:\n",
    "        with open(path_json,\"r\") as fp:\n",
    "            dico = json.load(fp)\n",
    "        dico_run_metadata = {\"folder_id\":f}\n",
    "        for metadata_name,dico_metadata in dico_access[\"metadata\"].items():\n",
    "            try:\n",
    "                value_metadata = eval(dico_metadata[\"access\"])(dico)\n",
    "            except:\n",
    "                value_metadata = eval(dico_metadata[\"default\"])\n",
    "            dico_run_metadata[metadata_name] = value_metadata\n",
    "        runs_metadata.append(dico_run_metadata)\n",
    "\n",
    "        dico_metrics[f] = {}\n",
    "        for metric_name,access_func in dico_access[\"metrics\"].items():\n",
    "            try:\n",
    "                value_list = eval(access_func)(dico)\n",
    "            except:\n",
    "                value_list = {\"tr_values\":[],\"valid_values\":[]}\n",
    "            dico_metrics[f][metric_name] = value_list\n",
    "\n",
    "df:pd.DataFrame = pd.DataFrame(runs_metadata)\n",
    "# import qgrid\n",
    "# widget = qgrid.show_grid(df_filtered)\n",
    "# tabloo.show(df_filtered)\n",
    "print(\"👍 Backend data ready !\")\n",
    "l_path = FolderInfos.root_folder.split(FolderInfos.separator)[:-1] + [\"main\",\"src\",\"analysis\",\"data_taboo.pkl\"]\n",
    "path_cache = FolderInfos.separator.join(l_path)\n",
    "df.to_pickle(path_cache)\n",
    "script_path  = FolderInfos.separator.join(FolderInfos.root_folder.split(FolderInfos.separator)[:-1] + ['main','src','analysis','launch_taboo.py'])\n",
    "print(f\"To see runs availables launch the launch_taboo.py script\\nat {script_path} . \\n\"+\n",
    "        \"⚠️ the python launch_taboo.py process needs to be killed \\nonce you do not need to visualize anymore the dataframe. \"\n",
    "        \"\\nClosing the web navigator window is not sufficient !\")"
   ]
  },
  {
   "cell_type": "code",
   "execution_count": 2,
   "metadata": {
    "pycharm": {
     "name": "#%%\n"
    }
   },
   "outputs": [
    {
     "data": {
      "text/plain": "VBox(children=(Text(value='', description='Query'), HTML(value='')))",
      "application/vnd.jupyter.widget-view+json": {
       "version_major": 2,
       "version_minor": 0,
       "model_id": "2ba2bd1f96cf4d8fadf189682bd78ac8"
      }
     },
     "metadata": {},
     "output_type": "display_data"
    }
   ],
   "source": [
    "import ipywidgets as widgets\n",
    "from IPython.display import display,clear_output\n",
    "from bs4 import BeautifulSoup\n",
    "\n",
    "html_template = lambda content:\"\"\"\n",
    "<!DOCTYPE html>\n",
    "<html>\n",
    "<head>\n",
    "<meta charset=\"UTF-8\">\n",
    "<style>\n",
    "    table {\n",
    "        border-collapse: collapse;\n",
    "        margin: 25px 0;\n",
    "        font-size: 0.9em;\n",
    "        font-family: sans-serif;\n",
    "        min-width: 400px;\n",
    "        box-shadow: 0 0 20px rgba(0, 0, 0, 0.15);\n",
    "    }\n",
    "    table thead tr {\n",
    "        background-color: #009879;\n",
    "        color: #ffffff;\n",
    "        text-align: left;\n",
    "    }\n",
    "    table th,\n",
    "    table td {\n",
    "        padding: 12px 15px;\n",
    "    }\n",
    "    table tbody tr {\n",
    "        border-bottom: 1px solid #dddddd;\n",
    "    }\n",
    "\n",
    "    table tbody tr:nth-of-type(even) {\n",
    "        background-color: rgba(255, 255, 255, 0.25);\n",
    "\n",
    "    }\n",
    "\n",
    "    table tbody tr:last-of-type {\n",
    "        border-bottom: 2px solid #009879;\n",
    "    }\n",
    "    table tbody tr.active-row {\n",
    "        font-weight: bold;\n",
    "        color: #009879;\n",
    "    }\n",
    "</style>\n",
    "</head>\n",
    "<body>\n",
    "%s\n",
    "</body>\n",
    "\"\"\" % content\n",
    "out = widgets.Output()\n",
    "filter_data = widgets.Text(description=\"Query\")\n",
    "html: widgets.HTML = widgets.HTML()\n",
    "box = widgets.VBox([filter_data,html])\n",
    "global df_filtered\n",
    "with out:\n",
    "    display(box)\n",
    "class DataFrameObject:# to solve the bug cannot put dataframe as global\n",
    "    def __init__(self,df):\n",
    "        self.orig_df = df\n",
    "        self.df = None\n",
    "    def __call__(self, string):\n",
    "        self.df = self.orig_df.query(string)\n",
    "        return self.df\n",
    "data = DataFrameObject(df)\n",
    "def handler_filter(v):\n",
    "    df_filtered: pd.DataFrame = data(filter_data.value)\n",
    "    html_value = df_filtered.to_html()\n",
    "    html_value = html_template(html_value)\n",
    "    soup = BeautifulSoup(html_value, 'html.parser')\n",
    "    html.value = soup.prettify()\n",
    "filter_data.on_submit(handler_filter)\n",
    "box"
   ]
  },
  {
   "cell_type": "code",
   "execution_count": 3,
   "metadata": {
    "pycharm": {
     "name": "#%%\n"
    }
   },
   "outputs": [
    {
     "data": {
      "text/plain": "VBox(children=(Accordion(children=(VBox(children=(HBox(children=(Label(value='grid_size_px'), PersoToggleButto…",
      "application/vnd.jupyter.widget-view+json": {
       "version_major": 2,
       "version_minor": 0,
       "model_id": "ef2e855d0b714db390dd81b5ff7160bc"
      }
     },
     "metadata": {},
     "output_type": "display_data"
    },
    {
     "data": {
      "application/vnd.plotly.v1+json": {
       "config": {
        "plotlyServerURL": "https://plot.ly"
       },
       "data": [
        {
         "hovertemplate": "Sample n°: %{x}<br>loss_binarycrossentropy tr<br>2021-06-25_14h20min09s_: %{y}",
         "mode": "lines",
         "name": "loss_binarycrossentropy tr 2021-06-25_14h20min09s_",
         "type": "scatter",
         "x": [
          0,
          10,
          20,
          30,
          40,
          50,
          60,
          70,
          80,
          90,
          100,
          110,
          120,
          130,
          140,
          150,
          160,
          170,
          180,
          190,
          200,
          210,
          220,
          230,
          240,
          250,
          260,
          270
         ],
         "y": [
          0.689265787601471,
          0.9066389203071594,
          0.54524827003479,
          0.8779011964797974,
          0.8111931681632996,
          0.7838622331619263,
          0.7421755194664001,
          0.6573503017425537,
          0.6336861848831177,
          0.6707497835159302,
          0.7393845915794373,
          0.6542848944664001,
          0.6872813701629639,
          0.6346977353096008,
          0.7974531054496765,
          0.7919979691505432,
          0.7970932126045227,
          0.6647705435752869,
          0.9573938250541687,
          0.7954186797142029,
          0.7802333235740662,
          0.6929271221160889,
          0.7291679978370667,
          0.7190179824829102,
          0.6120598912239075,
          0.8507354855537415,
          0.6395887732505798,
          0.9172551035881042
         ]
        },
        {
         "hovertemplate": "Sample n°: %{x}<br>loss_binarycrossentropy valid<br>2021-06-25_14h20min09s_: %{y}",
         "mode": "lines",
         "name": "loss_binarycrossentropy valid 2021-06-25_14h20min09s_",
         "type": "scatter",
         "x": [
          0,
          100
         ],
         "y": [
          null,
          null
         ]
        }
       ],
       "layout": {
        "height": 500,
        "legend": {
         "orientation": "h",
         "x": 1,
         "y": 1
        },
        "template": {
         "data": {
          "bar": [
           {
            "error_x": {
             "color": "#2a3f5f"
            },
            "error_y": {
             "color": "#2a3f5f"
            },
            "marker": {
             "line": {
              "color": "#E5ECF6",
              "width": 0.5
             }
            },
            "type": "bar"
           }
          ],
          "barpolar": [
           {
            "marker": {
             "line": {
              "color": "#E5ECF6",
              "width": 0.5
             }
            },
            "type": "barpolar"
           }
          ],
          "carpet": [
           {
            "aaxis": {
             "endlinecolor": "#2a3f5f",
             "gridcolor": "white",
             "linecolor": "white",
             "minorgridcolor": "white",
             "startlinecolor": "#2a3f5f"
            },
            "baxis": {
             "endlinecolor": "#2a3f5f",
             "gridcolor": "white",
             "linecolor": "white",
             "minorgridcolor": "white",
             "startlinecolor": "#2a3f5f"
            },
            "type": "carpet"
           }
          ],
          "choropleth": [
           {
            "colorbar": {
             "outlinewidth": 0,
             "ticks": ""
            },
            "type": "choropleth"
           }
          ],
          "contour": [
           {
            "colorbar": {
             "outlinewidth": 0,
             "ticks": ""
            },
            "colorscale": [
             [
              0.0,
              "#0d0887"
             ],
             [
              0.1111111111111111,
              "#46039f"
             ],
             [
              0.2222222222222222,
              "#7201a8"
             ],
             [
              0.3333333333333333,
              "#9c179e"
             ],
             [
              0.4444444444444444,
              "#bd3786"
             ],
             [
              0.5555555555555556,
              "#d8576b"
             ],
             [
              0.6666666666666666,
              "#ed7953"
             ],
             [
              0.7777777777777778,
              "#fb9f3a"
             ],
             [
              0.8888888888888888,
              "#fdca26"
             ],
             [
              1.0,
              "#f0f921"
             ]
            ],
            "type": "contour"
           }
          ],
          "contourcarpet": [
           {
            "colorbar": {
             "outlinewidth": 0,
             "ticks": ""
            },
            "type": "contourcarpet"
           }
          ],
          "heatmap": [
           {
            "colorbar": {
             "outlinewidth": 0,
             "ticks": ""
            },
            "colorscale": [
             [
              0.0,
              "#0d0887"
             ],
             [
              0.1111111111111111,
              "#46039f"
             ],
             [
              0.2222222222222222,
              "#7201a8"
             ],
             [
              0.3333333333333333,
              "#9c179e"
             ],
             [
              0.4444444444444444,
              "#bd3786"
             ],
             [
              0.5555555555555556,
              "#d8576b"
             ],
             [
              0.6666666666666666,
              "#ed7953"
             ],
             [
              0.7777777777777778,
              "#fb9f3a"
             ],
             [
              0.8888888888888888,
              "#fdca26"
             ],
             [
              1.0,
              "#f0f921"
             ]
            ],
            "type": "heatmap"
           }
          ],
          "heatmapgl": [
           {
            "colorbar": {
             "outlinewidth": 0,
             "ticks": ""
            },
            "colorscale": [
             [
              0.0,
              "#0d0887"
             ],
             [
              0.1111111111111111,
              "#46039f"
             ],
             [
              0.2222222222222222,
              "#7201a8"
             ],
             [
              0.3333333333333333,
              "#9c179e"
             ],
             [
              0.4444444444444444,
              "#bd3786"
             ],
             [
              0.5555555555555556,
              "#d8576b"
             ],
             [
              0.6666666666666666,
              "#ed7953"
             ],
             [
              0.7777777777777778,
              "#fb9f3a"
             ],
             [
              0.8888888888888888,
              "#fdca26"
             ],
             [
              1.0,
              "#f0f921"
             ]
            ],
            "type": "heatmapgl"
           }
          ],
          "histogram": [
           {
            "marker": {
             "colorbar": {
              "outlinewidth": 0,
              "ticks": ""
             }
            },
            "type": "histogram"
           }
          ],
          "histogram2d": [
           {
            "colorbar": {
             "outlinewidth": 0,
             "ticks": ""
            },
            "colorscale": [
             [
              0.0,
              "#0d0887"
             ],
             [
              0.1111111111111111,
              "#46039f"
             ],
             [
              0.2222222222222222,
              "#7201a8"
             ],
             [
              0.3333333333333333,
              "#9c179e"
             ],
             [
              0.4444444444444444,
              "#bd3786"
             ],
             [
              0.5555555555555556,
              "#d8576b"
             ],
             [
              0.6666666666666666,
              "#ed7953"
             ],
             [
              0.7777777777777778,
              "#fb9f3a"
             ],
             [
              0.8888888888888888,
              "#fdca26"
             ],
             [
              1.0,
              "#f0f921"
             ]
            ],
            "type": "histogram2d"
           }
          ],
          "histogram2dcontour": [
           {
            "colorbar": {
             "outlinewidth": 0,
             "ticks": ""
            },
            "colorscale": [
             [
              0.0,
              "#0d0887"
             ],
             [
              0.1111111111111111,
              "#46039f"
             ],
             [
              0.2222222222222222,
              "#7201a8"
             ],
             [
              0.3333333333333333,
              "#9c179e"
             ],
             [
              0.4444444444444444,
              "#bd3786"
             ],
             [
              0.5555555555555556,
              "#d8576b"
             ],
             [
              0.6666666666666666,
              "#ed7953"
             ],
             [
              0.7777777777777778,
              "#fb9f3a"
             ],
             [
              0.8888888888888888,
              "#fdca26"
             ],
             [
              1.0,
              "#f0f921"
             ]
            ],
            "type": "histogram2dcontour"
           }
          ],
          "mesh3d": [
           {
            "colorbar": {
             "outlinewidth": 0,
             "ticks": ""
            },
            "type": "mesh3d"
           }
          ],
          "parcoords": [
           {
            "line": {
             "colorbar": {
              "outlinewidth": 0,
              "ticks": ""
             }
            },
            "type": "parcoords"
           }
          ],
          "pie": [
           {
            "automargin": true,
            "type": "pie"
           }
          ],
          "scatter": [
           {
            "marker": {
             "colorbar": {
              "outlinewidth": 0,
              "ticks": ""
             }
            },
            "type": "scatter"
           }
          ],
          "scatter3d": [
           {
            "line": {
             "colorbar": {
              "outlinewidth": 0,
              "ticks": ""
             }
            },
            "marker": {
             "colorbar": {
              "outlinewidth": 0,
              "ticks": ""
             }
            },
            "type": "scatter3d"
           }
          ],
          "scattercarpet": [
           {
            "marker": {
             "colorbar": {
              "outlinewidth": 0,
              "ticks": ""
             }
            },
            "type": "scattercarpet"
           }
          ],
          "scattergeo": [
           {
            "marker": {
             "colorbar": {
              "outlinewidth": 0,
              "ticks": ""
             }
            },
            "type": "scattergeo"
           }
          ],
          "scattergl": [
           {
            "marker": {
             "colorbar": {
              "outlinewidth": 0,
              "ticks": ""
             }
            },
            "type": "scattergl"
           }
          ],
          "scattermapbox": [
           {
            "marker": {
             "colorbar": {
              "outlinewidth": 0,
              "ticks": ""
             }
            },
            "type": "scattermapbox"
           }
          ],
          "scatterpolar": [
           {
            "marker": {
             "colorbar": {
              "outlinewidth": 0,
              "ticks": ""
             }
            },
            "type": "scatterpolar"
           }
          ],
          "scatterpolargl": [
           {
            "marker": {
             "colorbar": {
              "outlinewidth": 0,
              "ticks": ""
             }
            },
            "type": "scatterpolargl"
           }
          ],
          "scatterternary": [
           {
            "marker": {
             "colorbar": {
              "outlinewidth": 0,
              "ticks": ""
             }
            },
            "type": "scatterternary"
           }
          ],
          "surface": [
           {
            "colorbar": {
             "outlinewidth": 0,
             "ticks": ""
            },
            "colorscale": [
             [
              0.0,
              "#0d0887"
             ],
             [
              0.1111111111111111,
              "#46039f"
             ],
             [
              0.2222222222222222,
              "#7201a8"
             ],
             [
              0.3333333333333333,
              "#9c179e"
             ],
             [
              0.4444444444444444,
              "#bd3786"
             ],
             [
              0.5555555555555556,
              "#d8576b"
             ],
             [
              0.6666666666666666,
              "#ed7953"
             ],
             [
              0.7777777777777778,
              "#fb9f3a"
             ],
             [
              0.8888888888888888,
              "#fdca26"
             ],
             [
              1.0,
              "#f0f921"
             ]
            ],
            "type": "surface"
           }
          ],
          "table": [
           {
            "cells": {
             "fill": {
              "color": "#EBF0F8"
             },
             "line": {
              "color": "white"
             }
            },
            "header": {
             "fill": {
              "color": "#C8D4E3"
             },
             "line": {
              "color": "white"
             }
            },
            "type": "table"
           }
          ]
         },
         "layout": {
          "annotationdefaults": {
           "arrowcolor": "#2a3f5f",
           "arrowhead": 0,
           "arrowwidth": 1
          },
          "autotypenumbers": "strict",
          "coloraxis": {
           "colorbar": {
            "outlinewidth": 0,
            "ticks": ""
           }
          },
          "colorscale": {
           "diverging": [
            [
             0,
             "#8e0152"
            ],
            [
             0.1,
             "#c51b7d"
            ],
            [
             0.2,
             "#de77ae"
            ],
            [
             0.3,
             "#f1b6da"
            ],
            [
             0.4,
             "#fde0ef"
            ],
            [
             0.5,
             "#f7f7f7"
            ],
            [
             0.6,
             "#e6f5d0"
            ],
            [
             0.7,
             "#b8e186"
            ],
            [
             0.8,
             "#7fbc41"
            ],
            [
             0.9,
             "#4d9221"
            ],
            [
             1,
             "#276419"
            ]
           ],
           "sequential": [
            [
             0.0,
             "#0d0887"
            ],
            [
             0.1111111111111111,
             "#46039f"
            ],
            [
             0.2222222222222222,
             "#7201a8"
            ],
            [
             0.3333333333333333,
             "#9c179e"
            ],
            [
             0.4444444444444444,
             "#bd3786"
            ],
            [
             0.5555555555555556,
             "#d8576b"
            ],
            [
             0.6666666666666666,
             "#ed7953"
            ],
            [
             0.7777777777777778,
             "#fb9f3a"
            ],
            [
             0.8888888888888888,
             "#fdca26"
            ],
            [
             1.0,
             "#f0f921"
            ]
           ],
           "sequentialminus": [
            [
             0.0,
             "#0d0887"
            ],
            [
             0.1111111111111111,
             "#46039f"
            ],
            [
             0.2222222222222222,
             "#7201a8"
            ],
            [
             0.3333333333333333,
             "#9c179e"
            ],
            [
             0.4444444444444444,
             "#bd3786"
            ],
            [
             0.5555555555555556,
             "#d8576b"
            ],
            [
             0.6666666666666666,
             "#ed7953"
            ],
            [
             0.7777777777777778,
             "#fb9f3a"
            ],
            [
             0.8888888888888888,
             "#fdca26"
            ],
            [
             1.0,
             "#f0f921"
            ]
           ]
          },
          "colorway": [
           "#636efa",
           "#EF553B",
           "#00cc96",
           "#ab63fa",
           "#FFA15A",
           "#19d3f3",
           "#FF6692",
           "#B6E880",
           "#FF97FF",
           "#FECB52"
          ],
          "font": {
           "color": "#2a3f5f"
          },
          "geo": {
           "bgcolor": "white",
           "lakecolor": "white",
           "landcolor": "#E5ECF6",
           "showlakes": true,
           "showland": true,
           "subunitcolor": "white"
          },
          "hoverlabel": {
           "align": "left"
          },
          "hovermode": "closest",
          "mapbox": {
           "style": "light"
          },
          "paper_bgcolor": "white",
          "plot_bgcolor": "#E5ECF6",
          "polar": {
           "angularaxis": {
            "gridcolor": "white",
            "linecolor": "white",
            "ticks": ""
           },
           "bgcolor": "#E5ECF6",
           "radialaxis": {
            "gridcolor": "white",
            "linecolor": "white",
            "ticks": ""
           }
          },
          "scene": {
           "xaxis": {
            "backgroundcolor": "#E5ECF6",
            "gridcolor": "white",
            "gridwidth": 2,
            "linecolor": "white",
            "showbackground": true,
            "ticks": "",
            "zerolinecolor": "white"
           },
           "yaxis": {
            "backgroundcolor": "#E5ECF6",
            "gridcolor": "white",
            "gridwidth": 2,
            "linecolor": "white",
            "showbackground": true,
            "ticks": "",
            "zerolinecolor": "white"
           },
           "zaxis": {
            "backgroundcolor": "#E5ECF6",
            "gridcolor": "white",
            "gridwidth": 2,
            "linecolor": "white",
            "showbackground": true,
            "ticks": "",
            "zerolinecolor": "white"
           }
          },
          "shapedefaults": {
           "line": {
            "color": "#2a3f5f"
           }
          },
          "ternary": {
           "aaxis": {
            "gridcolor": "white",
            "linecolor": "white",
            "ticks": ""
           },
           "baxis": {
            "gridcolor": "white",
            "linecolor": "white",
            "ticks": ""
           },
           "bgcolor": "#E5ECF6",
           "caxis": {
            "gridcolor": "white",
            "linecolor": "white",
            "ticks": ""
           }
          },
          "title": {
           "x": 0.05
          },
          "xaxis": {
           "automargin": true,
           "gridcolor": "white",
           "linecolor": "white",
           "ticks": "",
           "title": {
            "standoff": 15
           },
           "zerolinecolor": "white",
           "zerolinewidth": 2
          },
          "yaxis": {
           "automargin": true,
           "gridcolor": "white",
           "linecolor": "white",
           "ticks": "",
           "title": {
            "standoff": 15
           },
           "zerolinecolor": "white",
           "zerolinewidth": 2
          }
         }
        },
        "title": {
         "text": ""
        },
        "width": 900,
        "xaxis": {
         "title": {
          "text": "Number of samples processed"
         }
        },
        "yaxis": {
         "tickformat": ".1e",
         "title": {
          "text": "Values"
         }
        }
       }
      },
      "text/html": "<div>                            <div id=\"4bf28c42-156a-4331-87c2-742bd9bc335b\" class=\"plotly-graph-div\" style=\"height:500px; width:900px;\"></div>            <script type=\"text/javascript\">                require([\"plotly\"], function(Plotly) {                    window.PLOTLYENV=window.PLOTLYENV || {};                                    if (document.getElementById(\"4bf28c42-156a-4331-87c2-742bd9bc335b\")) {                    Plotly.newPlot(                        \"4bf28c42-156a-4331-87c2-742bd9bc335b\",                        [{\"hovertemplate\": \"Sample n\\u00b0: %{x}<br>loss_binarycrossentropy tr<br>2021-06-25_14h20min09s_: %{y}\", \"mode\": \"lines\", \"name\": \"loss_binarycrossentropy tr 2021-06-25_14h20min09s_\", \"type\": \"scatter\", \"x\": [0, 10, 20, 30, 40, 50, 60, 70, 80, 90, 100, 110, 120, 130, 140, 150, 160, 170, 180, 190, 200, 210, 220, 230, 240, 250, 260, 270], \"y\": [0.689265787601471, 0.9066389203071594, 0.54524827003479, 0.8779011964797974, 0.8111931681632996, 0.7838622331619263, 0.7421755194664001, 0.6573503017425537, 0.6336861848831177, 0.6707497835159302, 0.7393845915794373, 0.6542848944664001, 0.6872813701629639, 0.6346977353096008, 0.7974531054496765, 0.7919979691505432, 0.7970932126045227, 0.6647705435752869, 0.9573938250541687, 0.7954186797142029, 0.7802333235740662, 0.6929271221160889, 0.7291679978370667, 0.7190179824829102, 0.6120598912239075, 0.8507354855537415, 0.6395887732505798, 0.9172551035881042]}, {\"hovertemplate\": \"Sample n\\u00b0: %{x}<br>loss_binarycrossentropy valid<br>2021-06-25_14h20min09s_: %{y}\", \"mode\": \"lines\", \"name\": \"loss_binarycrossentropy valid 2021-06-25_14h20min09s_\", \"type\": \"scatter\", \"x\": [0, 100], \"y\": [null, null]}],                        {\"height\": 500, \"legend\": {\"orientation\": \"h\", \"x\": 1, \"y\": 1}, \"template\": {\"data\": {\"bar\": [{\"error_x\": {\"color\": \"#2a3f5f\"}, \"error_y\": {\"color\": \"#2a3f5f\"}, \"marker\": {\"line\": {\"color\": \"#E5ECF6\", \"width\": 0.5}}, \"type\": \"bar\"}], \"barpolar\": [{\"marker\": {\"line\": {\"color\": \"#E5ECF6\", \"width\": 0.5}}, \"type\": \"barpolar\"}], \"carpet\": [{\"aaxis\": {\"endlinecolor\": \"#2a3f5f\", \"gridcolor\": \"white\", \"linecolor\": \"white\", \"minorgridcolor\": \"white\", \"startlinecolor\": \"#2a3f5f\"}, \"baxis\": {\"endlinecolor\": \"#2a3f5f\", \"gridcolor\": \"white\", \"linecolor\": \"white\", \"minorgridcolor\": \"white\", \"startlinecolor\": \"#2a3f5f\"}, \"type\": \"carpet\"}], \"choropleth\": [{\"colorbar\": {\"outlinewidth\": 0, \"ticks\": \"\"}, \"type\": \"choropleth\"}], \"contour\": [{\"colorbar\": {\"outlinewidth\": 0, \"ticks\": \"\"}, \"colorscale\": [[0.0, \"#0d0887\"], [0.1111111111111111, \"#46039f\"], [0.2222222222222222, \"#7201a8\"], [0.3333333333333333, \"#9c179e\"], [0.4444444444444444, \"#bd3786\"], [0.5555555555555556, \"#d8576b\"], [0.6666666666666666, \"#ed7953\"], [0.7777777777777778, \"#fb9f3a\"], [0.8888888888888888, \"#fdca26\"], [1.0, \"#f0f921\"]], \"type\": \"contour\"}], \"contourcarpet\": [{\"colorbar\": {\"outlinewidth\": 0, \"ticks\": \"\"}, \"type\": \"contourcarpet\"}], \"heatmap\": [{\"colorbar\": {\"outlinewidth\": 0, \"ticks\": \"\"}, \"colorscale\": [[0.0, \"#0d0887\"], [0.1111111111111111, \"#46039f\"], [0.2222222222222222, \"#7201a8\"], [0.3333333333333333, \"#9c179e\"], [0.4444444444444444, \"#bd3786\"], [0.5555555555555556, \"#d8576b\"], [0.6666666666666666, \"#ed7953\"], [0.7777777777777778, \"#fb9f3a\"], [0.8888888888888888, \"#fdca26\"], [1.0, \"#f0f921\"]], \"type\": \"heatmap\"}], \"heatmapgl\": [{\"colorbar\": {\"outlinewidth\": 0, \"ticks\": \"\"}, \"colorscale\": [[0.0, \"#0d0887\"], [0.1111111111111111, \"#46039f\"], [0.2222222222222222, \"#7201a8\"], [0.3333333333333333, \"#9c179e\"], [0.4444444444444444, \"#bd3786\"], [0.5555555555555556, \"#d8576b\"], [0.6666666666666666, \"#ed7953\"], [0.7777777777777778, \"#fb9f3a\"], [0.8888888888888888, \"#fdca26\"], [1.0, \"#f0f921\"]], \"type\": \"heatmapgl\"}], \"histogram\": [{\"marker\": {\"colorbar\": {\"outlinewidth\": 0, \"ticks\": \"\"}}, \"type\": \"histogram\"}], \"histogram2d\": [{\"colorbar\": {\"outlinewidth\": 0, \"ticks\": \"\"}, \"colorscale\": [[0.0, \"#0d0887\"], [0.1111111111111111, \"#46039f\"], [0.2222222222222222, \"#7201a8\"], [0.3333333333333333, \"#9c179e\"], [0.4444444444444444, \"#bd3786\"], [0.5555555555555556, \"#d8576b\"], [0.6666666666666666, \"#ed7953\"], [0.7777777777777778, \"#fb9f3a\"], [0.8888888888888888, \"#fdca26\"], [1.0, \"#f0f921\"]], \"type\": \"histogram2d\"}], \"histogram2dcontour\": [{\"colorbar\": {\"outlinewidth\": 0, \"ticks\": \"\"}, \"colorscale\": [[0.0, \"#0d0887\"], [0.1111111111111111, \"#46039f\"], [0.2222222222222222, \"#7201a8\"], [0.3333333333333333, \"#9c179e\"], [0.4444444444444444, \"#bd3786\"], [0.5555555555555556, \"#d8576b\"], [0.6666666666666666, \"#ed7953\"], [0.7777777777777778, \"#fb9f3a\"], [0.8888888888888888, \"#fdca26\"], [1.0, \"#f0f921\"]], \"type\": \"histogram2dcontour\"}], \"mesh3d\": [{\"colorbar\": {\"outlinewidth\": 0, \"ticks\": \"\"}, \"type\": \"mesh3d\"}], \"parcoords\": [{\"line\": {\"colorbar\": {\"outlinewidth\": 0, \"ticks\": \"\"}}, \"type\": \"parcoords\"}], \"pie\": [{\"automargin\": true, \"type\": \"pie\"}], \"scatter\": [{\"marker\": {\"colorbar\": {\"outlinewidth\": 0, \"ticks\": \"\"}}, \"type\": \"scatter\"}], \"scatter3d\": [{\"line\": {\"colorbar\": {\"outlinewidth\": 0, \"ticks\": \"\"}}, \"marker\": {\"colorbar\": {\"outlinewidth\": 0, \"ticks\": \"\"}}, \"type\": \"scatter3d\"}], \"scattercarpet\": [{\"marker\": {\"colorbar\": {\"outlinewidth\": 0, \"ticks\": \"\"}}, \"type\": \"scattercarpet\"}], \"scattergeo\": [{\"marker\": {\"colorbar\": {\"outlinewidth\": 0, \"ticks\": \"\"}}, \"type\": \"scattergeo\"}], \"scattergl\": [{\"marker\": {\"colorbar\": {\"outlinewidth\": 0, \"ticks\": \"\"}}, \"type\": \"scattergl\"}], \"scattermapbox\": [{\"marker\": {\"colorbar\": {\"outlinewidth\": 0, \"ticks\": \"\"}}, \"type\": \"scattermapbox\"}], \"scatterpolar\": [{\"marker\": {\"colorbar\": {\"outlinewidth\": 0, \"ticks\": \"\"}}, \"type\": \"scatterpolar\"}], \"scatterpolargl\": [{\"marker\": {\"colorbar\": {\"outlinewidth\": 0, \"ticks\": \"\"}}, \"type\": \"scatterpolargl\"}], \"scatterternary\": [{\"marker\": {\"colorbar\": {\"outlinewidth\": 0, \"ticks\": \"\"}}, \"type\": \"scatterternary\"}], \"surface\": [{\"colorbar\": {\"outlinewidth\": 0, \"ticks\": \"\"}, \"colorscale\": [[0.0, \"#0d0887\"], [0.1111111111111111, \"#46039f\"], [0.2222222222222222, \"#7201a8\"], [0.3333333333333333, \"#9c179e\"], [0.4444444444444444, \"#bd3786\"], [0.5555555555555556, \"#d8576b\"], [0.6666666666666666, \"#ed7953\"], [0.7777777777777778, \"#fb9f3a\"], [0.8888888888888888, \"#fdca26\"], [1.0, \"#f0f921\"]], \"type\": \"surface\"}], \"table\": [{\"cells\": {\"fill\": {\"color\": \"#EBF0F8\"}, \"line\": {\"color\": \"white\"}}, \"header\": {\"fill\": {\"color\": \"#C8D4E3\"}, \"line\": {\"color\": \"white\"}}, \"type\": \"table\"}]}, \"layout\": {\"annotationdefaults\": {\"arrowcolor\": \"#2a3f5f\", \"arrowhead\": 0, \"arrowwidth\": 1}, \"autotypenumbers\": \"strict\", \"coloraxis\": {\"colorbar\": {\"outlinewidth\": 0, \"ticks\": \"\"}}, \"colorscale\": {\"diverging\": [[0, \"#8e0152\"], [0.1, \"#c51b7d\"], [0.2, \"#de77ae\"], [0.3, \"#f1b6da\"], [0.4, \"#fde0ef\"], [0.5, \"#f7f7f7\"], [0.6, \"#e6f5d0\"], [0.7, \"#b8e186\"], [0.8, \"#7fbc41\"], [0.9, \"#4d9221\"], [1, \"#276419\"]], \"sequential\": [[0.0, \"#0d0887\"], [0.1111111111111111, \"#46039f\"], [0.2222222222222222, \"#7201a8\"], [0.3333333333333333, \"#9c179e\"], [0.4444444444444444, \"#bd3786\"], [0.5555555555555556, \"#d8576b\"], [0.6666666666666666, \"#ed7953\"], [0.7777777777777778, \"#fb9f3a\"], [0.8888888888888888, \"#fdca26\"], [1.0, \"#f0f921\"]], \"sequentialminus\": [[0.0, \"#0d0887\"], [0.1111111111111111, \"#46039f\"], [0.2222222222222222, \"#7201a8\"], [0.3333333333333333, \"#9c179e\"], [0.4444444444444444, \"#bd3786\"], [0.5555555555555556, \"#d8576b\"], [0.6666666666666666, \"#ed7953\"], [0.7777777777777778, \"#fb9f3a\"], [0.8888888888888888, \"#fdca26\"], [1.0, \"#f0f921\"]]}, \"colorway\": [\"#636efa\", \"#EF553B\", \"#00cc96\", \"#ab63fa\", \"#FFA15A\", \"#19d3f3\", \"#FF6692\", \"#B6E880\", \"#FF97FF\", \"#FECB52\"], \"font\": {\"color\": \"#2a3f5f\"}, \"geo\": {\"bgcolor\": \"white\", \"lakecolor\": \"white\", \"landcolor\": \"#E5ECF6\", \"showlakes\": true, \"showland\": true, \"subunitcolor\": \"white\"}, \"hoverlabel\": {\"align\": \"left\"}, \"hovermode\": \"closest\", \"mapbox\": {\"style\": \"light\"}, \"paper_bgcolor\": \"white\", \"plot_bgcolor\": \"#E5ECF6\", \"polar\": {\"angularaxis\": {\"gridcolor\": \"white\", \"linecolor\": \"white\", \"ticks\": \"\"}, \"bgcolor\": \"#E5ECF6\", \"radialaxis\": {\"gridcolor\": \"white\", \"linecolor\": \"white\", \"ticks\": \"\"}}, \"scene\": {\"xaxis\": {\"backgroundcolor\": \"#E5ECF6\", \"gridcolor\": \"white\", \"gridwidth\": 2, \"linecolor\": \"white\", \"showbackground\": true, \"ticks\": \"\", \"zerolinecolor\": \"white\"}, \"yaxis\": {\"backgroundcolor\": \"#E5ECF6\", \"gridcolor\": \"white\", \"gridwidth\": 2, \"linecolor\": \"white\", \"showbackground\": true, \"ticks\": \"\", \"zerolinecolor\": \"white\"}, \"zaxis\": {\"backgroundcolor\": \"#E5ECF6\", \"gridcolor\": \"white\", \"gridwidth\": 2, \"linecolor\": \"white\", \"showbackground\": true, \"ticks\": \"\", \"zerolinecolor\": \"white\"}}, \"shapedefaults\": {\"line\": {\"color\": \"#2a3f5f\"}}, \"ternary\": {\"aaxis\": {\"gridcolor\": \"white\", \"linecolor\": \"white\", \"ticks\": \"\"}, \"baxis\": {\"gridcolor\": \"white\", \"linecolor\": \"white\", \"ticks\": \"\"}, \"bgcolor\": \"#E5ECF6\", \"caxis\": {\"gridcolor\": \"white\", \"linecolor\": \"white\", \"ticks\": \"\"}}, \"title\": {\"x\": 0.05}, \"xaxis\": {\"automargin\": true, \"gridcolor\": \"white\", \"linecolor\": \"white\", \"ticks\": \"\", \"title\": {\"standoff\": 15}, \"zerolinecolor\": \"white\", \"zerolinewidth\": 2}, \"yaxis\": {\"automargin\": true, \"gridcolor\": \"white\", \"linecolor\": \"white\", \"ticks\": \"\", \"title\": {\"standoff\": 15}, \"zerolinecolor\": \"white\", \"zerolinewidth\": 2}}}, \"title\": {\"text\": \"\"}, \"width\": 900, \"xaxis\": {\"title\": {\"text\": \"Number of samples processed\"}}, \"yaxis\": {\"tickformat\": \".1e\", \"title\": {\"text\": \"Values\"}}},                        {\"responsive\": true}                    ).then(function(){\n                            \nvar gd = document.getElementById('4bf28c42-156a-4331-87c2-742bd9bc335b');\nvar x = new MutationObserver(function (mutations, observer) {{\n        var display = window.getComputedStyle(gd).display;\n        if (!display || display === 'none') {{\n            console.log([gd, 'removed!']);\n            Plotly.purge(gd);\n            observer.disconnect();\n        }}\n}});\n\n// Listen for the removal of the full notebook cells\nvar notebookContainer = gd.closest('#notebook-container');\nif (notebookContainer) {{\n    x.observe(notebookContainer, {childList: true});\n}}\n\n// Listen for the clearing of the current output cell\nvar outputEl = gd.closest('.output');\nif (outputEl) {{\n    x.observe(outputEl, {childList: true});\n}}\n\n                        })                };                });            </script>        </div>"
     },
     "metadata": {},
     "output_type": "display_data"
    },
    {
     "name": "stdout",
     "output_type": "stream",
     "text": [
      "loss\n"
     ]
    },
    {
     "data": {
      "text/plain": "<Figure size 432x288 with 0 Axes>"
     },
     "metadata": {},
     "output_type": "display_data"
    }
   ],
   "source": [
    "filtered_dataframe = data.df\n",
    "import ipywidgets as widgets\n",
    "class PersoToggleButton(widgets.ToggleButton):\n",
    "    def __init__(self,name=None,*args,**kargs):\n",
    "        super(PersoToggleButton, self).__init__(*args,**kargs)\n",
    "        self.name = name\n",
    "\n",
    "compute_width = lambda value:f\"{max(len(str(value)) * 12, 60) + 20}px\"\n",
    "list_vertical_widgets = []\n",
    "dico_changing_widgets_metadata = {}\n",
    "list_changing_widgets_metrics = []\n",
    "list_changing_widgets_tr_valid = []\n",
    "# Widgets for the metadata ------------------------------------------------------------------\n",
    "label_metadata_filter = \"Metadata\"\n",
    "llocalvertwidgets = []\n",
    "dico_changing_widgets_reorganized = {\"metadata\":{},\"metrics\":{},\"mode\":{}}\n",
    "for metadata_name in df.columns:\n",
    "\n",
    "    if metadata_name == \"folder_id\":\n",
    "        continue\n",
    "    possible_values = df[metadata_name].unique()\n",
    "    label = widgets.Label(metadata_name)\n",
    "    dico_changing_widgets_reorganized[\"metadata\"][metadata_name] = {str(value):PersoToggleButton(\n",
    "        value=True,\n",
    "        description=str(value),\n",
    "        disabled=False,\n",
    "        button_style='', # 'success', 'info', 'warning', 'danger' or ''\n",
    "        tooltip='',\n",
    "        icon='check',\n",
    "        layout = widgets.Layout(width = compute_width(value), margin='0px 0px 0px 0px'),\n",
    "        name=\"metadata|\"+metadata_name\n",
    "    ) for value in possible_values}\n",
    "\n",
    "    possibilities = list(dico_changing_widgets_reorganized[\"metadata\"][metadata_name].values())\n",
    "    dico_changing_widgets_metadata[metadata_name] = possibilities\n",
    "    box = widgets.HBox(layout=widgets.Layout(width='100%',display='inline-flex',flex_flow='row wrap'),width='100%')\n",
    "    box.overflow_x = 'auto'\n",
    "    box.children = [label]+possibilities\n",
    "    llocalvertwidgets.append(box)\n",
    "\n",
    "box = widgets.VBox(width='100%')\n",
    "box.children = llocalvertwidgets\n",
    "list_vertical_widgets.append(box)\n",
    "# Widgets to select metrics ---------------------------------------------------------------\n",
    "label_metrics_filter = \"Metrics\"\n",
    "dico_changing_widgets_reorganized[\"metrics\"] = {str(metric_name):PersoToggleButton(\n",
    "        value=True,\n",
    "        description=metric_name,\n",
    "        disabled=False,\n",
    "        button_style='', # 'success', 'info', 'warning', 'danger' or ''\n",
    "        tooltip='',\n",
    "        icon='check',\n",
    "        layout = widgets.Layout(width = compute_width(metric_name), margin='0px 0px 0px 0px'),\n",
    "        name=\"metrics\"\n",
    "    )\n",
    "    for metric_name in available_metrics}\n",
    "possibilities = list(dico_changing_widgets_reorganized[\"metrics\"].values())\n",
    "list_changing_widgets_metrics = possibilities\n",
    "box = widgets.HBox(layout=widgets.Layout(width='100%',display='inline-flex',flex_flow='row wrap'),width='100%')\n",
    "box.overflow_x = 'auto'\n",
    "box.children = possibilities\n",
    "list_vertical_widgets.append(box)\n",
    "\n",
    "# widgets to select tr or valid ----------------------------------------------------------\n",
    "label_tr_valid_filter = \"Mode_of_training\"\n",
    "possibilities = [PersoToggleButton(\n",
    "        value=True,\n",
    "        description=mode,\n",
    "        disabled=False,\n",
    "        button_style='', # 'success', 'info', 'warning', 'danger' or ''\n",
    "        tooltip='',\n",
    "        icon='check',\n",
    "        layout = widgets.Layout(width = compute_width(mode), margin='0px 0px 0px 0px'),\n",
    "        name=\"mode\"\n",
    "    )\n",
    "    for mode in [\"tr\",\"valid\"]]\n",
    "list_changing_widgets_tr_valid = possibilities\n",
    "box = widgets.HBox(layout=widgets.Layout(width='100%',display='inline-flex',flex_flow='row wrap'),width='100%')\n",
    "box.overflow_x = 'auto'\n",
    "box.children = possibilities\n",
    "list_vertical_widgets.append(box)\n",
    "\n",
    "titles = [\"Metadata\", \"Metrics\",\"Mode_of_training\"]\n",
    "l = []\n",
    "for i,[item,title] in enumerate((zip(list_vertical_widgets,titles))):\n",
    "    accordion = widgets.Accordion(children=[item],titles=(title,))\n",
    "    accordion.set_title(0,title)\n",
    "    accordion.selected_index = 0\n",
    "    if i == 0:\n",
    "        accordion.selected_index = None\n",
    "    l.append(accordion)\n",
    "# widget for moving average\n",
    "moving_average = widgets.IntText(\n",
    "    value=100,\n",
    "    description='mean_window',\n",
    "    disabled=False\n",
    ")\n",
    "# widget to toggle log scale for the y axis\n",
    "y_log_scale = widgets.ToggleButton(\n",
    "        value=True,\n",
    "        description=\"logy\",\n",
    "        disabled=False,\n",
    "        button_style='', # 'success', 'info', 'warning', 'danger' or ''\n",
    "        tooltip='',\n",
    "        icon='check',\n",
    "        layout = widgets.Layout(width = compute_width(\"logy\"), margin='0px 0px 0px 0px')\n",
    "    )\n",
    "\n",
    "global_box = widgets.VBox(l+[moving_average,y_log_scale])\n",
    "\n",
    "# Handlers --------------------------------------------------------------------------------------\n",
    "from IPython.display import display,clear_output\n",
    "import plotly.graph_objects as go\n",
    "import main.src.analysis.tools as tls\n",
    "\n",
    "def filter_metrics(runs):\n",
    "    global states\n",
    "    new_dico = {}\n",
    "    for f,dico in dico_metrics.items():\n",
    "        if f not in runs:\n",
    "            continue\n",
    "        new_dico[f] = {}\n",
    "        for metric_name,list_values in dico.items():\n",
    "            if states[\"metrics\"][metric_name] is True:\n",
    "                new_dico[f][metric_name] = list_values\n",
    "    return new_dico\n",
    "def plot(dico_vals,filtered_dataframe):\n",
    "    global states\n",
    "    import numpy as np\n",
    "    list_scatters = []\n",
    "    import matplotlib.pyplot as plt\n",
    "    for run,dico_metrics in dico_vals.items():\n",
    "        line_dataframe = filtered_dataframe[filtered_dataframe[\"folder_id\"] == run]\n",
    "        batch_size_tr = line_dataframe[\"tr_batch_size\"].values[0]\n",
    "        batch_size_valid = line_dataframe[\"valid_batch_size\"].values[0]\n",
    "        for metric_name,metric_values in dico_metrics.items():\n",
    "            if metric_name == \"loss\":\n",
    "                metric_name = \"loss_\"+filtered_dataframe[filtered_dataframe[\"folder_id\"] == run][\"loss\"].values[0]\n",
    "                access_name = \"_loss\"\n",
    "            else:\n",
    "                access_name = \"_values\"\n",
    "            global states\n",
    "            for mode,state in states[\"mode\"].items():\n",
    "                if state is False:\n",
    "                    continue\n",
    "                batch_size = batch_size_tr if mode == \"tr\" else batch_size_valid\n",
    "                if \"loss\" in metric_name:\n",
    "                    access_name1 = \"attr_\"+mode+access_name\n",
    "                else:\n",
    "                    access_name1 = mode + access_name\n",
    "                v = metric_values[access_name1]\n",
    "                window = int(moving_average.value/batch_size)\n",
    "                new_values = []\n",
    "                for i in range(len(v)-window):\n",
    "                    new_values.append(np.mean(v[i:min(i+window,len(v))]))\n",
    "                v = np.array(new_values)\n",
    "                x = np.arange(0,v.shape[0]) * batch_size\n",
    "                x = pd.Series(x)\n",
    "                v = pd.Series(v)\n",
    "                graph = go.Scatter(x=x,y=v,mode='lines',name=f\"{metric_name} {mode} {run}\",\n",
    "                                   hovertemplate='Sample n°: %{x}'+f'<br>{metric_name} {mode}<br>{run}:'+' %{y}')\n",
    "                list_scatters.append(graph)\n",
    "    plt.clf()\n",
    "    fig = go.Figure(\n",
    "        data=list_scatters,\n",
    "        layout=go.Layout(\n",
    "            title=go.layout.Title(text=\"\"),\n",
    "            xaxis_title=\"Number of samples processed\",\n",
    "            yaxis_title=\"Values\",\n",
    "            legend=dict(\n",
    "                orientation=\"h\",\n",
    "                y=1,\n",
    "                x=1\n",
    "            ),\n",
    "            yaxis={'tickformat':'.1e',},\n",
    "            width=900,\n",
    "            height = 500\n",
    "        ),\n",
    "    )\n",
    "    if states[\"others\"][\"logy\"] is True:\n",
    "        fig.update_yaxes(type=\"log\")\n",
    "    clear_output()\n",
    "    display(global_box)\n",
    "    fig.show()\n",
    "states = {\"others\":{\"mean_window\":moving_average.value,\"logy\":False},\n",
    "          \"mode\":{\"tr\":False,\"valid\":False},\n",
    "          \"metrics\":{k:False for k in available_metrics},\n",
    "          \"metadata\":{k:{\n",
    "              str(k1):False for k1 in df[k].unique()\n",
    "          } for k in df.columns}\n",
    "          }\n",
    "def handler(v):\n",
    "    global query\n",
    "    if v[\"name\"] == \"disabled\":\n",
    "        return\n",
    "    global states\n",
    "    try:\n",
    "        name = \"others\"\n",
    "        try:\n",
    "            name = v[\"owner\"].name\n",
    "        except:\n",
    "            pass\n",
    "        name = name.split(\"|\")\n",
    "        try:\n",
    "            new_val = not(v[\"new\"][\"value\"])\n",
    "        except:\n",
    "            new_val = not(v[\"new\"])\n",
    "    except Exception as e:\n",
    "        return\n",
    "    if len(name) == 2:\n",
    "        states[name[0]][name[1]][v[\"owner\"].description] = not(states[name[0]][name[1]][v[\"owner\"].description])\n",
    "    else:\n",
    "        states[name[0]][v[\"owner\"].description] = not(states[name[0]][v[\"owner\"].description])\n",
    "    runs = filtered_dataframe[\"folder_id\"].unique()\n",
    "    dico_vals = filter_metrics(runs)\n",
    "    plot(dico_vals,filtered_dataframe)\n",
    "    try:\n",
    "        print(dico_vals['2021-06-20_17h39min55s_'][\"mae\"])\n",
    "    except:\n",
    "        pass\n",
    "    print(metric_name)\n",
    "\n",
    "for name,liste_w in dico_changing_widgets_metadata.items():\n",
    "    for w in liste_w:\n",
    "        w.observe(handler)\n",
    "for w in list_changing_widgets_metrics:\n",
    "    w.observe(handler)\n",
    "list_changing_widgets_metrics[-1].value = True\n",
    "for w in list_changing_widgets_tr_valid:\n",
    "    w.observe(handler)\n",
    "for w in [moving_average,y_log_scale]:\n",
    "    w.observe(handler)\n",
    "global_box\n"
   ]
  },
  {
   "cell_type": "markdown",
   "metadata": {
    "pycharm": {
     "name": "#%% md\n"
    }
   },
   "source": [
    "### RGB overlay\n",
    "Execute following code cell and choose one folder and then execute the next cells"
   ]
  },
  {
   "cell_type": "code",
   "execution_count": 4,
   "metadata": {
    "jupyter": {
     "outputs_hidden": false
    },
    "pycharm": {
     "name": "#%%\n"
    }
   },
   "outputs": [
    {
     "data": {
      "application/vnd.jupyter.widget-view+json": {
       "model_id": "89fa6a0e823643feb716656159c622b5",
       "version_major": 2,
       "version_minor": 0
      },
      "text/plain": [
       "Dropdown(description='Folder to vizualize result', options=('2021-06-19_01h51min22s_', '2021-06-19_04h32min09s…"
      ]
     },
     "metadata": {},
     "output_type": "display_data"
    }
   ],
   "source": [
    "from ipywidgets import Dropdown\n",
    "\n",
    "choice_folder = Dropdown(\n",
    "    options=df[\"folder_id\"].unique(),\n",
    "    value=df[\"folder_id\"].unique()[0],\n",
    "    description='Folder to vizualize result',\n",
    "    disabled=False,\n",
    "         )\n",
    "display(choice_folder)\n",
    "\n"
   ]
  },
  {
   "cell_type": "code",
   "execution_count": 6,
   "metadata": {
    "jupyter": {
     "outputs_hidden": false
    },
    "pycharm": {
     "name": "#%%\n"
    }
   },
   "outputs": [
    {
     "name": "stdout",
     "output_type": "stream",
     "text": [
      "loading from cache\n"
     ]
    },
    {
     "data": {
      "image/png": "[encoded data removed]",
      "text/plain": [
       "<Figure size 720x720 with 1 Axes>"
      ]
     },
     "metadata": {
      "needs_background": "light"
     },
     "output_type": "display_data"
    },
    {
     "data": {
      "image/png": "[encoded data removed]",
      "text/plain": [
       "<Figure size 720x720 with 1 Axes>"
      ]
     },
     "metadata": {
      "needs_background": "light"
     },
     "output_type": "display_data"
    }
   ],
   "source": [
    "choice_folder1 = choice_folder.value\n",
    "from main.src.models.ModelFactory import ModelFactory\n",
    "from main.src.analysis.tools import RGB_Overlay_Patch\n",
    "import json\n",
    "name = \"027481_0319CB_0EB7\"\n",
    "FolderInfos.init(test_without_data=True)\n",
    "folder = FolderInfos.data_folder + choice_folder1 + FolderInfos.separator\n",
    "\n",
    "\n",
    "if os.path.exists(folder+choice_folder1+\"_\"+name+\"_rgb_overlay_pred.png\") is True:\n",
    "    print(\"loading from cache\")\n",
    "    import matplotlib.pyplot as plt\n",
    "    from PIL import Image\n",
    "    image_true = Image.open(folder+choice_folder1+\"_\"+name+\"_rgb_overlay_true.png\")\n",
    "    image_pred = Image.open(folder+choice_folder1+\"_\"+name+\"_rgb_overlay_pred.png\")\n",
    "    plt.figure(figsize=(10,10))\n",
    "    plt.imshow(image_true)\n",
    "    plt.figure(figsize=(10,10))\n",
    "    plt.imshow(image_pred)\n",
    "else:\n",
    "    print(\"not already computed, processing...\")\n",
    "    with open(folder + choice_folder1 + \"parameters.json\", \"r\") as fp:\n",
    "        dico = json.load(fp)\n",
    "\n",
    "    rgb_overlay = RGB_Overlay_Patch(dataset_name=\"classificationpatch1\",usage_type=\"classification\", patch_creator=\"fixed_px\",\n",
    "                                grid_size=dico[\"data\"][\"attr_patch_creator\"][\"attr_grid_size_px\"],\n",
    "                                input_size=dico[\"data\"][\"attr_dataset\"][\"attr_resizer\"][\n",
    "                                    \"attr_out_size_w\"],\n",
    "                                    classes_to_use=dico[\"data\"][\"attr_dataset\"][\"attr_classes_to_use\"]\n",
    "                                    )\n",
    "    epoch = 0\n",
    "    iteration = 60835\n",
    "    import torch\n",
    "\n",
    "    device = torch.device(\"cuda\")\n",
    "    model = ModelFactory(model_name=dico[\"model\"][\"attr_model_name\"], num_classes=dico[\"model\"][\"attr_num_classes\"])()\n",
    "    model.to(device)\n",
    "    model.load_state_dict(torch.load(f\"{folder}{choice_folder1}_model_epoch-{epoch}_it-{iteration}.pt\"))\n",
    "    array_overlay = rgb_overlay(name_img=name, model=model, blending_factor=0.5, device=device)\n",
    "\n",
    "    import matplotlib.pyplot as plt\n",
    "    plt.figure(figsize=(10,10))\n",
    "    plt.imshow(array_overlay[0])\n",
    "    plt.gcf().text(0.02, 0.75, f\"RGB with order {dico['data']['attr_dataset']['attr_classes_to_use']}\", fontsize=14)\n",
    "    plt.savefig(f\"{folder}{choice_folder1}_{name}_rgb_overlay_true.png\")\n",
    "    plt.figure(figsize=(10,10))\n",
    "    plt.imshow(array_overlay[1])\n",
    "    plt.gcf().text(0.02, 0.75, f\"RGB with order {dico['data']['attr_dataset']['attr_classes_to_use']}\", fontsize=14)\n",
    "    plt.savefig(f\"{folder}{choice_folder1}_{name}_rgb_overlay_pred.png\")\n",
    "    plt.figure(figsize=(10,10))\n",
    "    plt.imshow(array_overlay[2],cmap=\"gray\")"
   ]
  },
  {
   "cell_type": "code",
   "execution_count": 63,
   "metadata": {
    "jupyter": {
     "outputs_hidden": false
    },
    "pycharm": {
     "name": "#%%\n"
    }
   },
   "outputs": [],
   "source": [
    "from main.src.data.DatasetFactory import DatasetFactory\n",
    "\n",
    "FolderInfos.init(test_without_data=False)\n",
    "dataset = DatasetFactory(usage_type=\"classification\", patch_creator=\"fixed_px\",grid_size=1000 , input_size=256)\n",
    "with open(FolderInfos.input_data_folder+\"class_mappings.json\",\"r\") as fp:\n",
    "    dico_corresp = json.load(fp)\n",
    "plt.figure()\n",
    "array = dataset.attr_dataset.images[name]\n",
    "plt.imshow(array,cmap=\"gray\")\n",
    "\n",
    "plt.figure()\n",
    "plt.imshow(array[:10,:10],cmap=\"gray\")\n",
    "import numpy as np\n",
    "print(np.std(array),np.min(array),np.max(array))"
   ]
  }
 ],
 "metadata": {
  "kernelspec": {
   "display_name": "pytorch",
   "language": "python",
   "name": "pytorch"
  },
  "language_info": {
   "codemirror_mode": {
    "name": "ipython",
    "version": 3
   },
   "file_extension": ".py",
   "mimetype": "text/x-python",
   "name": "python",
   "nbconvert_exporter": "python",
   "pygments_lexer": "ipython3",
   "version": "3.7.10"
  }
 },
 "nbformat": 4,
 "nbformat_minor": 4
}