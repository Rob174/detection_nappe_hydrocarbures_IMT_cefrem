{
 "cells": [
  {
   "cell_type": "markdown",
   "metadata": {
    "collapsed": true,
    "pycharm": {
     "name": "#%% md\n"
    }
   },
   "source": [
    "# Analysis"
   ]
  },
  {
   "cell_type": "markdown",
   "source": [
    "## Get backend data"
   ],
   "metadata": {
    "collapsed": false,
    "pycharm": {
     "name": "#%% md\n"
    }
   }
  },
  {
   "cell_type": "code",
   "execution_count": 1,
   "metadata": {
    "pycharm": {
     "name": "#%%\n"
    }
   },
   "outputs": [
    {
     "name": "stderr",
     "output_type": "stream",
     "text": [
      "C:\\Anaconda\\envs\\pytorch\\lib\\site-packages\\numpy\\_distributor_init.py:32: UserWarning: loaded more than 1 DLL from .libs:\n",
      "C:\\Anaconda\\envs\\pytorch\\lib\\site-packages\\numpy\\.libs\\libopenblas.GK7GX5KEQ4F6UYO3P26ULGBQYHGQO7J4.gfortran-win_amd64.dll\n",
      "C:\\Anaconda\\envs\\pytorch\\lib\\site-packages\\numpy\\.libs\\libopenblas.WCDJNK7YVMPZQ2ME2ZZHJJRJ3JIKNDB7.gfortran-win_amd64.dll\n",
      "  stacklevel=1)\n"
     ]
    },
    {
     "name": "stdout",
     "output_type": "stream",
     "text": [
      "Backend data ready !\n"
     ]
    }
   ],
   "source": [
    "import os, re\n",
    "from main.FolderInfos import FolderInfos\n",
    "import pandas as pd\n",
    "import json\n",
    "\n",
    "FolderInfos.init(test_without_data=True)\n",
    "list_dataout_folders = os.listdir(FolderInfos.data_folder)\n",
    "with open(FolderInfos.root_folder+\"main\"+FolderInfos.separator+\"src\"+FolderInfos.separator+\"analysis\"+FolderInfos.separator+\"extract_data.json\",\"r\") as fp:\n",
    "    dico_access = json.load(fp)\n",
    "dico_metrics = {}\n",
    "available_metrics = dico_access[\"metrics\"].keys()\n",
    "runs_metadata = []\n",
    "for f in list_dataout_folders:\n",
    "    path_json = FolderInfos.data_folder+f+FolderInfos.separator+f+\"parameters.json\"\n",
    "\n",
    "    if os.path.exists(path_json) is True:\n",
    "        with open(path_json,\"r\") as fp:\n",
    "            dico = json.load(fp)\n",
    "        dico_run_metadata = {\"folder_id\":f}\n",
    "        for metadata_name,dico_metadata in dico_access[\"metadata\"].items():\n",
    "            try:\n",
    "                value_metadata = eval(dico_metadata[\"access\"])(dico)\n",
    "            except:\n",
    "                value_metadata = eval(dico_metadata[\"default\"])\n",
    "            dico_run_metadata[metadata_name] = value_metadata\n",
    "        runs_metadata.append(dico_run_metadata)\n",
    "\n",
    "        dico_metrics[f] = {}\n",
    "        for metric_name,access_func in dico_access[\"metrics\"].items():\n",
    "            try:\n",
    "                value_list = eval(access_func)(dico)\n",
    "            except:\n",
    "                value_list = {\"tr_values\":[],\"valid_values\":[]}\n",
    "            dico_metrics[f][metric_name] = value_list\n",
    "\n",
    "df = pd.DataFrame(runs_metadata)\n",
    "print(\"Backend data ready !\")"
   ]
  },
  {
   "cell_type": "markdown",
   "source": [
    "## Visualize plots and filter"
   ],
   "metadata": {
    "collapsed": false,
    "pycharm": {
     "name": "#%% md\n"
    }
   }
  },
  {
   "cell_type": "code",
   "execution_count": 2,
   "outputs": [
    {
     "name": "stdout",
     "output_type": "stream",
     "text": [
      "dict_keys(['accuracy_classification-0.25', 'accuracy_classification-0.1', 'mae', 'loss'])\n"
     ]
    }
   ],
   "source": [
    "print(available_metrics)"
   ],
   "metadata": {
    "collapsed": false,
    "pycharm": {
     "name": "#%%\n"
    }
   }
  },
  {
   "cell_type": "code",
   "execution_count": 3,
   "outputs": [
    {
     "data": {
      "text/plain": "VBox(children=(Accordion(children=(VBox(children=(HBox(children=(Label(value='grid_size_px'), PersoToggleButto…",
      "application/vnd.jupyter.widget-view+json": {
       "version_major": 2,
       "version_minor": 0,
       "model_id": "0b80b86553a042b38fe44668f897129e"
      }
     },
     "metadata": {},
     "output_type": "display_data"
    }
   ],
   "source": [
    "import ipywidgets as widgets\n",
    "class PersoToggleButton(widgets.ToggleButton):\n",
    "    def __init__(self,name=None,*args,**kargs):\n",
    "        super(PersoToggleButton, self).__init__(*args,**kargs)\n",
    "        self.name = name\n",
    "\n",
    "compute_width = lambda value:f\"{max(len(str(value)) * 12, 60) + 20}px\"\n",
    "list_vertical_widgets = []\n",
    "dico_changing_widgets_metadata = {}\n",
    "list_changing_widgets_metrics = []\n",
    "list_changing_widgets_tr_valid = []\n",
    "# Widgets for the metadata ------------------------------------------------------------------\n",
    "label_metadata_filter = \"Metadata\"\n",
    "llocalvertwidgets = []\n",
    "dico_changing_widgets_reorganized = {\"metadata\":{},\"metrics\":{},\"mode\":{}}\n",
    "for metadata_name in df.columns:\n",
    "\n",
    "    if metadata_name == \"folder_id\":\n",
    "        continue\n",
    "    possible_values = df[metadata_name].unique()\n",
    "    label = widgets.Label(metadata_name)\n",
    "    dico_changing_widgets_reorganized[\"metadata\"][metadata_name] = {str(value):PersoToggleButton(\n",
    "        value=True,\n",
    "        description=str(value),\n",
    "        disabled=False,\n",
    "        button_style='', # 'success', 'info', 'warning', 'danger' or ''\n",
    "        tooltip='',\n",
    "        icon='check',\n",
    "        layout = widgets.Layout(width = compute_width(value), margin='0px 0px 0px 0px'),\n",
    "        name=\"metadata|\"+metadata_name\n",
    "    ) for value in possible_values}\n",
    "\n",
    "    possibilities = list(dico_changing_widgets_reorganized[\"metadata\"][metadata_name].values())\n",
    "    dico_changing_widgets_metadata[metadata_name] = possibilities\n",
    "    box = widgets.HBox(layout=widgets.Layout(width='100%',display='inline-flex',flex_flow='row wrap'),width='100%')\n",
    "    box.overflow_x = 'auto'\n",
    "    box.children = [label]+possibilities\n",
    "    llocalvertwidgets.append(box)\n",
    "\n",
    "box = widgets.VBox(width='100%')\n",
    "box.children = llocalvertwidgets\n",
    "list_vertical_widgets.append(box)\n",
    "# Widgets to select metrics ---------------------------------------------------------------\n",
    "label_metrics_filter = \"Metrics\"\n",
    "dico_changing_widgets_reorganized[\"metrics\"] = {str(metric_name):PersoToggleButton(\n",
    "        value=True,\n",
    "        description=metric_name,\n",
    "        disabled=False,\n",
    "        button_style='', # 'success', 'info', 'warning', 'danger' or ''\n",
    "        tooltip='',\n",
    "        icon='check',\n",
    "        layout = widgets.Layout(width = compute_width(metric_name), margin='0px 0px 0px 0px'),\n",
    "        name=\"metrics\"\n",
    "    )\n",
    "    for metric_name in available_metrics}\n",
    "possibilities = list(dico_changing_widgets_reorganized[\"metrics\"].values())\n",
    "list_changing_widgets_metrics = possibilities\n",
    "box = widgets.HBox(layout=widgets.Layout(width='100%',display='inline-flex',flex_flow='row wrap'),width='100%')\n",
    "box.overflow_x = 'auto'\n",
    "box.children = possibilities\n",
    "list_vertical_widgets.append(box)\n",
    "\n",
    "# widgets to select tr or valid ----------------------------------------------------------\n",
    "label_tr_valid_filter = \"Mode_of_training\"\n",
    "possibilities = [PersoToggleButton(\n",
    "        value=True,\n",
    "        description=mode,\n",
    "        disabled=False,\n",
    "        button_style='', # 'success', 'info', 'warning', 'danger' or ''\n",
    "        tooltip='',\n",
    "        icon='check',\n",
    "        layout = widgets.Layout(width = compute_width(mode), margin='0px 0px 0px 0px'),\n",
    "        name=\"mode\"\n",
    "    )\n",
    "    for mode in [\"tr\",\"valid\"]]\n",
    "list_changing_widgets_tr_valid = possibilities\n",
    "box = widgets.HBox(layout=widgets.Layout(width='100%',display='inline-flex',flex_flow='row wrap'),width='100%')\n",
    "box.overflow_x = 'auto'\n",
    "box.children = possibilities\n",
    "list_vertical_widgets.append(box)\n",
    "\n",
    "titles = [\"Metadata\", \"Metrics\",\"Mode_of_training\"]\n",
    "l = []\n",
    "for item,title in zip(list_vertical_widgets,titles):\n",
    "    accordion = widgets.Accordion(children=[item],titles=(title,))\n",
    "    accordion.set_title(0,title)\n",
    "    accordion.selected_index = 0\n",
    "    l.append(accordion)\n",
    "# widget for moving average\n",
    "moving_average = widgets.IntText(\n",
    "    value=100,\n",
    "    description='mean_window',\n",
    "    disabled=False\n",
    ")\n",
    "# widget to toggle log scale for the y axis\n",
    "y_log_scale = widgets.ToggleButton(\n",
    "        value=True,\n",
    "        description=\"logy\",\n",
    "        disabled=False,\n",
    "        button_style='', # 'success', 'info', 'warning', 'danger' or ''\n",
    "        tooltip='',\n",
    "        icon='check',\n",
    "        layout = widgets.Layout(width = compute_width(\"logy\"), margin='0px 0px 0px 0px')\n",
    "    )\n",
    "\n",
    "global_box = widgets.VBox(l+[moving_average,y_log_scale])\n",
    "\n",
    "# Handlers --------------------------------------------------------------------------------------\n",
    "from IPython.display import display,clear_output\n",
    "import plotly.graph_objects as go\n",
    "import main.src.analysis.tools as tls\n",
    "def filter_metadata():\n",
    "    global states\n",
    "    global query\n",
    "    # Extract informations from widgets to build a query for the dataframe\n",
    "    list_sub_requests_1 = []\n",
    "    for metadata_name,dico_metadata in states[\"metadata\"].items():\n",
    "        list_sub_requests_2 = []\n",
    "        for name,state in dico_metadata.items():\n",
    "            if state is True:\n",
    "                type_data = type(df[metadata_name][0])\n",
    "                if type_data is str:\n",
    "                    name = f\"\\\"{name}\\\"\"\n",
    "                list_sub_requests_2.append(f\"({metadata_name} == {name})\")\n",
    "        if len(list_sub_requests_2) > 0:\n",
    "            poss = r\" or \".join(list_sub_requests_2)\n",
    "            list_sub_requests_1.append(f\"({poss})\")\n",
    "    filtered_dataframe = df\n",
    "    if len(list_sub_requests_1) > 0:\n",
    "        query = r\" or \".join(list_sub_requests_1)\n",
    "        print(query)\n",
    "        # Apply the query to the dataframe\n",
    "        filtered_dataframe = df.query(query)\n",
    "    list_runs = filtered_dataframe[\"folder_id\"].unique()\n",
    "    return list_runs,filtered_dataframe\n",
    "def filter_metrics(runs):\n",
    "    global states\n",
    "    new_dico = {}\n",
    "    for f,dico in dico_metrics.items():\n",
    "        if f not in runs:\n",
    "            continue\n",
    "        new_dico[f] = {}\n",
    "        for metric_name,list_values in dico.items():\n",
    "            if states[\"metrics\"][metric_name] is True:\n",
    "                new_dico[f][metric_name] = list_values\n",
    "    return new_dico\n",
    "def actualize_available_possibilities(dico_vals,filtered_dataframe):\n",
    "    global states, dico_changing_widgets_metadata\n",
    "    for column in filtered_dataframe.columns[1:]:\n",
    "        values_available = filtered_dataframe[column].unique()\n",
    "        for value in df[column].unique():\n",
    "            w = dico_changing_widgets_reorganized[\"metadata\"][column][str(value)]\n",
    "            if value not in values_available:\n",
    "                w.disabled = True\n",
    "            else:\n",
    "                w.disabled = False\n",
    "def plot(dico_vals,filtered_dataframe):\n",
    "    global states\n",
    "    import numpy as np\n",
    "    list_scatters = []\n",
    "    import matplotlib.pyplot as plt\n",
    "    plt.clf()\n",
    "    for run,dico_metrics in dico_vals.items():\n",
    "        line_dataframe = filtered_dataframe[filtered_dataframe[\"folder_id\"] == run]\n",
    "        batch_size_tr = line_dataframe[\"tr_batch_size\"].values[0]\n",
    "        batch_size_valid = line_dataframe[\"valid_batch_size\"].values[0]\n",
    "        for metric_name,metric_values in dico_metrics.items():\n",
    "            if metric_name == \"loss\":\n",
    "                metric_name = \"loss_\"+filtered_dataframe[filtered_dataframe[\"folder_id\"] == run][\"loss\"].values[0]\n",
    "                access_name = \"_loss\"\n",
    "            else:\n",
    "                access_name = \"_values\"\n",
    "            global states\n",
    "            for mode,state in states[\"mode\"].items():\n",
    "                if state is False:\n",
    "                    continue\n",
    "                batch_size = batch_size_tr if mode == \"tr\" else batch_size_valid\n",
    "                window = int(moving_average.value/batch_size)\n",
    "                if \"loss\" in metric_name:\n",
    "                    access_name1 = \"attr_\"+mode+access_name\n",
    "                else:\n",
    "                    access_name1 = mode + access_name\n",
    "                v = np.array(tls.moving_mean(np.array(metric_values[access_name1]),window=window))\n",
    "                x = np.arange(0,v.shape[0]) * batch_size\n",
    "                x = pd.Series(x)\n",
    "                v = pd.Series(v)\n",
    "                graph = go.Scatter(x=x,y=v,mode='lines',name=f\"{metric_name} {mode} {run}\",\n",
    "                                   hovertemplate='Sample n°: %{x}'+f'<br>{metric_name} {mode}<br>{run}:'+' %{y}')\n",
    "                list_scatters.append(graph)\n",
    "    fig = go.Figure(\n",
    "        data=list_scatters,\n",
    "        layout=go.Layout(\n",
    "            title=go.layout.Title(text=\"\"),\n",
    "            xaxis_title=\"Number of samples processed\",\n",
    "            yaxis_title=\"Values\",\n",
    "            legend=dict(\n",
    "                orientation=\"h\",\n",
    "                y=1,\n",
    "                x=1\n",
    "            ),\n",
    "            yaxis={'tickformat':'.1e',},\n",
    "            width=900,\n",
    "            height = 500\n",
    "        ),\n",
    "    )\n",
    "    if states[\"others\"][\"logy\"] is True:\n",
    "        fig.update_yaxes(type=\"log\")\n",
    "    clear_output()\n",
    "    display(global_box)\n",
    "    fig.show()\n",
    "states = {\"others\":{\"mean_window\":moving_average.value,\"logy\":False},\n",
    "          \"mode\":{\"tr\":False,\"valid\":False},\n",
    "          \"metrics\":{k:False for k in available_metrics},\n",
    "          \"metadata\":{k:{\n",
    "              str(k1):False for k1 in df[k].unique()\n",
    "          } for k in df.columns}\n",
    "          }\n",
    "def handler(v):\n",
    "    print(v)\n",
    "    global query\n",
    "    if v[\"name\"] == \"disabled\":\n",
    "        return\n",
    "    global states\n",
    "    try:\n",
    "        name = \"others\"\n",
    "        try:\n",
    "            name = v[\"owner\"].name\n",
    "        except:\n",
    "            pass\n",
    "        name = name.split(\"|\")\n",
    "        print(name)\n",
    "        try:\n",
    "            new_val = not(v[\"new\"][\"value\"])\n",
    "        except:\n",
    "            new_val = not(v[\"new\"])\n",
    "    except Exception as e:\n",
    "        print(e)\n",
    "        print(v)\n",
    "        return\n",
    "    print(v,name)\n",
    "    if len(name) == 2:\n",
    "        states[name[0]][name[1]][v[\"owner\"].description] = not(states[name[0]][name[1]][v[\"owner\"].description])\n",
    "    else:\n",
    "        states[name[0]][v[\"owner\"].description] = not(states[name[0]][v[\"owner\"].description])\n",
    "    runs,filtered_dataframe = filter_metadata()\n",
    "    dico_vals = filter_metrics(runs)\n",
    "    plot(dico_vals,filtered_dataframe)\n",
    "    actualize_available_possibilities(dico_vals,filtered_dataframe)\n",
    "    print(states[\"mode\"])\n",
    "\n",
    "for name,liste_w in dico_changing_widgets_metadata.items():\n",
    "    for w in liste_w:\n",
    "        w.observe(handler)\n",
    "for w in list_changing_widgets_metrics:\n",
    "    w.observe(handler)\n",
    "list_changing_widgets_metrics[-1].value = True\n",
    "for w in list_changing_widgets_tr_valid:\n",
    "    w.observe(handler)\n",
    "for w in [moving_average,y_log_scale]:\n",
    "    w.observe(handler)\n",
    "global_box"
   ],
   "metadata": {
    "collapsed": false,
    "pycharm": {
     "name": "#%%\n"
    }
   }
  },
  {
   "cell_type": "code",
   "execution_count": 4,
   "outputs": [
    {
     "data": {
      "text/plain": "Dropdown(description='Folder to vizualize result', options=('2021-06-19_01h51min22s_', '2021-06-19_04h32min09s…",
      "application/vnd.jupyter.widget-view+json": {
       "version_major": 2,
       "version_minor": 0,
       "model_id": "a0da3c3f857e47cc8696bfeb64d1e2d0"
      }
     },
     "metadata": {},
     "output_type": "display_data"
    }
   ],
   "source": [
    "from ipywidgets import Dropdown\n",
    "\n",
    "choice_folder = Dropdown(\n",
    "    options=df[\"folder_id\"].unique(),\n",
    "    value=df[\"folder_id\"].unique()[0],\n",
    "    description='Folder to vizualize result',\n",
    "    disabled=False,\n",
    "         )\n",
    "display(choice_folder)"
   ],
   "metadata": {
    "collapsed": false,
    "pycharm": {
     "name": "#%%\n"
    }
   }
  },
  {
   "cell_type": "code",
   "execution_count": null,
   "outputs": [
    {
     "data": {
      "text/plain": "Output()",
      "application/vnd.jupyter.widget-view+json": {
       "version_major": 2,
       "version_minor": 0,
       "model_id": "87d309edae5747cbaffcb761e4217287"
      }
     },
     "metadata": {},
     "output_type": "display_data"
    }
   ],
   "source": [
    "choice_folder1 = choice_folder.value\n",
    "from main.src.models.ModelFactory import ModelFactory\n",
    "from main.src.analysis.tools import RGB_Overlay_Patch\n",
    "import json\n",
    "FolderInfos.init(test_without_data=True)\n",
    "folder = FolderInfos.data_folder + choice_folder1 + FolderInfos.separator\n",
    "with open(folder + choice_folder1 + \"parameters.json\", \"r\") as fp:\n",
    "    dico = json.load(fp)\n",
    "\n",
    "rgb_overlay = RGB_Overlay_Patch(dataset_name=\"classificationpatch1\",usage_type=\"classification\", patch_creator=\"fixed_px\",\n",
    "                            grid_size=dico[\"data\"][\"attr_patch_creator\"][\"attr_grid_size_px\"],\n",
    "                            input_size=dico[\"data\"][\"attr_dataset\"][\"attr_resizer\"][\n",
    "                                \"attr_out_size_w\"],\n",
    "                                classes_to_use=dico[\"data\"][\"attr_dataset\"][\"attr_classes_to_use\"]\n",
    "                                )\n",
    "epoch = 0\n",
    "iteration = 60835\n",
    "import torch\n",
    "name = \"027481_0319CB_0EB7\"\n",
    "\n",
    "device = torch.device(\"cuda\")\n",
    "model = ModelFactory(model_name=dico[\"model\"][\"attr_model_name\"], num_classes=dico[\"model\"][\"attr_num_classes\"])()\n",
    "model.to(device)\n",
    "model.load_state_dict(torch.load(f\"{folder}{choice_folder1}_model_epoch-{epoch}_it-{iteration}.pt\"))\n",
    "array_overlay = rgb_overlay(name_img=name, model=model, blending_factor=0.5, device=device)"
   ],
   "metadata": {
    "collapsed": false,
    "pycharm": {
     "name": "#%%\n",
     "is_executing": true
    }
   }
  },
  {
   "cell_type": "code",
   "execution_count": null,
   "outputs": [],
   "source": [
    "import matplotlib.pyplot as plt\n",
    "plt.figure(figsize=(10,10))\n",
    "plt.imshow(array_overlay[0])\n",
    "plt.gcf().text(0.02, 0.75, f\"Red: other; Green: seep; Blue: spills\", fontsize=14)\n",
    "plt.savefig(f\"{folder}{choice_folder1}_{name}_rgb_overlay_true.png\")\n",
    "plt.figure(figsize=(10,10))\n",
    "plt.imshow(array_overlay[1])\n",
    "plt.gcf().text(0.02, 0.75, f\"Red: other; Green: seep; Blue: spills\", fontsize=14)\n",
    "plt.savefig(f\"{folder}{choice_folder1}_{name}_rgb_overlay_pred.png\")\n",
    "plt.figure(figsize=(10,10))\n",
    "plt.imshow(array_overlay[2],cmap=\"gray\")"
   ],
   "metadata": {
    "collapsed": false,
    "pycharm": {
     "name": "#%%\n",
     "is_executing": true
    }
   }
  },
  {
   "cell_type": "code",
   "execution_count": 63,
   "outputs": [],
   "source": [
    "from main.src.data.DatasetFactory import DatasetFactory\n",
    "\n",
    "FolderInfos.init(test_without_data=False)\n",
    "dataset = DatasetFactory(usage_type=\"classification\", patch_creator=\"fixed_px\",grid_size=1000 , input_size=256)\n",
    "with open(FolderInfos.input_data_folder+\"class_mappings.json\",\"r\") as fp:\n",
    "    dico_corresp = json.load(fp)\n",
    "plt.figure()\n",
    "array = dataset.attr_dataset.images[name]\n",
    "plt.imshow(array,cmap=\"gray\")\n",
    "\n",
    "plt.figure()\n",
    "plt.imshow(array[:10,:10],cmap=\"gray\")\n",
    "import numpy as np\n",
    "print(np.std(array),np.min(array),np.max(array))"
   ],
   "metadata": {
    "collapsed": false,
    "pycharm": {
     "name": "#%%\n"
    }
   }
  }
 ],
 "metadata": {
  "kernelspec": {
   "name": "pycharm-f84d40f0",
   "language": "python",
   "display_name": "PyCharm (detection_nappe_hydrocarbures_inria_cefrem)"
  },
  "language_info": {
   "codemirror_mode": {
    "name": "ipython",
    "version": 3
   },
   "file_extension": ".py",
   "mimetype": "text/x-python",
   "name": "python",
   "nbconvert_exporter": "python",
   "pygments_lexer": "ipython3",
   "version": "3.7.10"
  }
 },
 "nbformat": 4,
 "nbformat_minor": 1
}